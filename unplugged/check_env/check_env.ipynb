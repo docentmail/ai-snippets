{
 "cells": [
  {
   "cell_type": "markdown",
   "metadata": {},
   "source": [
    "Utility notebook designed to run in the \"jupyter notebook\" browser and in the VS code IDE.\n",
    "It displays some useful attributes of OS and the Python runtime.\n"
   ]
  },
  {
   "cell_type": "code",
   "execution_count": 1,
   "metadata": {},
   "outputs": [
    {
     "name": "stdout",
     "output_type": "stream",
     "text": [
      "3.12.4 (v3.12.4:8e8a4baf65, Jun  6 2024, 17:33:18) [Clang 13.0.0 (clang-1300.0.29.30)]\n"
     ]
    }
   ],
   "source": [
    "# detect the Python version at runtime\n",
    "import sys; print(sys.version)"
   ]
  },
  {
   "cell_type": "markdown",
   "metadata": {},
   "source": []
  },
  {
   "cell_type": "code",
   "execution_count": 2,
   "metadata": {},
   "outputs": [
    {
     "name": "stdout",
     "output_type": "stream",
     "text": [
      "['/Library/Frameworks/Python.framework/Versions/3.12/lib/python3.12/site-packages/pydantic_core']\n"
     ]
    }
   ],
   "source": [
    "\"\"\"\n",
    "Check the Python site-packages folder location used.\n",
    "\"\"\"\n",
    "\n",
    "import pydantic_core as _; \n",
    "print(_.__path__)"
   ]
  },
  {
   "cell_type": "markdown",
   "metadata": {},
   "source": []
  },
  {
   "cell_type": "code",
   "execution_count": 3,
   "metadata": {},
   "outputs": [
    {
     "name": "stdout",
     "output_type": "stream",
     "text": [
      "\n",
      "uname -m\n",
      "arm64\n",
      "\n",
      " python --version\n",
      "/bin/bash: python: command not found\n",
      "\n",
      "!pip -V\n",
      "pip 24.2 from /Library/Frameworks/Python.framework/Versions/3.12/lib/python3.12/site-packages/pip (python 3.12)\n",
      "\n",
      "!python3 -m pip -V\n",
      "pip 24.2 from /Library/Frameworks/Python.framework/Versions/3.12/lib/python3.12/site-packages/pip (python 3.12)\n",
      "\n",
      "!python -m pip -V \n",
      "/bin/bash: python: command not found\n",
      "\n",
      "!pip3 -V\n",
      "pip 24.2 from /Library/Frameworks/Python.framework/Versions/3.12/lib/python3.12/site-packages/pip (python 3.12)\n"
     ]
    }
   ],
   "source": [
    "\"\"\"\"\n",
    "For Apple silicon based Macs.\n",
    "Check \"Rosetta Translation Environment\" term.\n",
    "You could be surprised by the results of the following command in the terminal Python execution, \n",
    "in the \"jupyter notebook\" browser and in the VS code IDE.\n",
    "\"\"\"\n",
    "print(\"\\nuname -m\")\n",
    "!uname -m\n",
    "\n"
   ]
  },
  {
   "cell_type": "code",
   "execution_count": null,
   "metadata": {},
   "outputs": [],
   "source": [
    "\"\"\"\n",
    "Compare results in the terminal Python execution, in the \"jupyter notebook\" browser, and in the VS code IDE.\n",
    "They could be different.\n",
    "\"\"\"\n",
    "\n",
    "\n",
    "print(\"\\n python --version\")\n",
    "!python --version\n",
    "\n",
    "\n",
    "print(\"\\n!pip -V\")\n",
    "!pip -V\n",
    "\n",
    "print(\"\\n!python3 -m pip -V\")\n",
    "!python3 -m pip -V\n",
    "\n",
    "print(\"\\n!python -m pip -V \")\n",
    "!python -m pip -V \n",
    "\n",
    "print(\"\\n!pip3 -V\")\n",
    "!pip3 -V"
   ]
  }
 ],
 "metadata": {
  "kernelspec": {
   "display_name": "Python 3",
   "language": "python",
   "name": "python3"
  },
  "language_info": {
   "codemirror_mode": {
    "name": "ipython",
    "version": 3
   },
   "file_extension": ".py",
   "mimetype": "text/x-python",
   "name": "python",
   "nbconvert_exporter": "python",
   "pygments_lexer": "ipython3",
   "version": "3.12.4"
  }
 },
 "nbformat": 4,
 "nbformat_minor": 2
}
