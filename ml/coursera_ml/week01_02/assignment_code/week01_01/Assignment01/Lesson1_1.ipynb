{
 "cells": [
  {
   "cell_type": "code",
   "execution_count": 1,
   "metadata": {},
   "outputs": [
    {
     "name": "stdout",
     "output_type": "stream",
     "text": [
      "Collecting numpy\n",
      "  Downloading numpy-2.1.3-cp312-cp312-macosx_14_0_arm64.whl.metadata (62 kB)\n",
      "\u001b[2K     \u001b[90m━━━━━━━━━━━━━━━━━━━━━━━━━━━━━━━━━━━━━━━━\u001b[0m \u001b[32m62.0/62.0 kB\u001b[0m \u001b[31m1.5 MB/s\u001b[0m eta \u001b[36m0:00:00\u001b[0m\n",
      "\u001b[?25hDownloading numpy-2.1.3-cp312-cp312-macosx_14_0_arm64.whl (5.1 MB)\n",
      "\u001b[2K   \u001b[90m━━━━━━━━━━━━━━━━━━━━━━━━━━━━━━━━━━━━━━━━\u001b[0m \u001b[32m5.1/5.1 MB\u001b[0m \u001b[31m6.1 MB/s\u001b[0m eta \u001b[36m0:00:00\u001b[0m00:01\u001b[0m00:01\u001b[0m\n",
      "\u001b[?25hInstalling collected packages: numpy\n",
      "Successfully installed numpy-2.1.3\n",
      "\n",
      "\u001b[1m[\u001b[0m\u001b[34;49mnotice\u001b[0m\u001b[1;39;49m]\u001b[0m\u001b[39;49m A new release of pip is available: \u001b[0m\u001b[31;49m24.0\u001b[0m\u001b[39;49m -> \u001b[0m\u001b[32;49m24.3.1\u001b[0m\n",
      "\u001b[1m[\u001b[0m\u001b[34;49mnotice\u001b[0m\u001b[1;39;49m]\u001b[0m\u001b[39;49m To update, run: \u001b[0m\u001b[32;49mpip install --upgrade pip\u001b[0m\n"
     ]
    }
   ],
   "source": [
    "# !pip install numpy"
   ]
  },
  {
   "cell_type": "code",
   "execution_count": 2,
   "metadata": {},
   "outputs": [],
   "source": [
    "import numpy as np"
   ]
  },
  {
   "cell_type": "code",
   "execution_count": null,
   "metadata": {
    "collapsed": false,
    "jupyter": {
     "outputs_hidden": false
    }
   },
   "outputs": [],
   "source": [
    "x=np.random.normal(loc=1, scale=10, size=(1000,50))\n",
    "print(x)"
   ]
  },
  {
   "cell_type": "code",
   "execution_count": null,
   "metadata": {
    "collapsed": false,
    "jupyter": {
     "outputs_hidden": false
    }
   },
   "outputs": [],
   "source": [
    "m = np.mean(x, axis=0)\n",
    "print m"
   ]
  },
  {
   "cell_type": "code",
   "execution_count": null,
   "metadata": {
    "collapsed": false,
    "jupyter": {
     "outputs_hidden": false
    }
   },
   "outputs": [],
   "source": [
    "X=x\n",
    "m = np.mean(X, axis=0)\n",
    "std = np.std(X, axis=0)\n",
    "X_norm = ((X - m)  / std)\n",
    "print X_norm"
   ]
  },
  {
   "cell_type": "code",
   "execution_count": null,
   "metadata": {
    "collapsed": true,
    "jupyter": {
     "outputs_hidden": true
    }
   },
   "outputs": [],
   "source": [
    "import pandas"
   ]
  },
  {
   "cell_type": "code",
   "execution_count": null,
   "metadata": {
    "collapsed": false,
    "jupyter": {
     "outputs_hidden": false
    }
   },
   "outputs": [],
   "source": [
    "data = pandas.read_csv('/Volumes/fast64/My/MachineLearning/Lesson02/practival/titanic.csv', index_col='PassengerId')"
   ]
  },
  {
   "cell_type": "code",
   "execution_count": null,
   "metadata": {
    "collapsed": false,
    "jupyter": {
     "outputs_hidden": false
    }
   },
   "outputs": [],
   "source": [
    "data.describe()"
   ]
  },
  {
   "cell_type": "code",
   "execution_count": null,
   "metadata": {
    "collapsed": false,
    "jupyter": {
     "outputs_hidden": false
    }
   },
   "outputs": [],
   "source": [
    "data.tail(3)"
   ]
  },
  {
   "cell_type": "markdown",
   "metadata": {},
   "source": [
    "# sex"
   ]
  },
  {
   "cell_type": "code",
   "execution_count": null,
   "metadata": {
    "collapsed": false,
    "jupyter": {
     "outputs_hidden": false
    }
   },
   "outputs": [],
   "source": [
    "sex=data['Sex']"
   ]
  },
  {
   "cell_type": "code",
   "execution_count": null,
   "metadata": {
    "collapsed": false,
    "jupyter": {
     "outputs_hidden": false
    }
   },
   "outputs": [],
   "source": [
    "type(sex)"
   ]
  },
  {
   "cell_type": "code",
   "execution_count": null,
   "metadata": {
    "collapsed": false,
    "jupyter": {
     "outputs_hidden": false
    }
   },
   "outputs": [],
   "source": [
    "sex_set=set(sex)\n",
    "print sex_set"
   ]
  },
  {
   "cell_type": "code",
   "execution_count": null,
   "metadata": {
    "collapsed": true,
    "jupyter": {
     "outputs_hidden": true
    }
   },
   "outputs": [],
   "source": [
    "import collections"
   ]
  },
  {
   "cell_type": "code",
   "execution_count": null,
   "metadata": {
    "collapsed": false,
    "jupyter": {
     "outputs_hidden": false
    }
   },
   "outputs": [],
   "source": [
    "counter=collections.Counter(sex)\n",
    "print(counter)"
   ]
  },
  {
   "cell_type": "markdown",
   "metadata": {},
   "source": [
    "# survived"
   ]
  },
  {
   "cell_type": "code",
   "execution_count": null,
   "metadata": {
    "collapsed": true,
    "jupyter": {
     "outputs_hidden": true
    }
   },
   "outputs": [],
   "source": [
    "survived=data['Survived']"
   ]
  },
  {
   "cell_type": "code",
   "execution_count": null,
   "metadata": {
    "collapsed": false,
    "jupyter": {
     "outputs_hidden": false
    }
   },
   "outputs": [],
   "source": [
    "counter=collections.Counter(survived)\n",
    "print(counter)"
   ]
  },
  {
   "cell_type": "code",
   "execution_count": null,
   "metadata": {
    "collapsed": false,
    "jupyter": {
     "outputs_hidden": false
    }
   },
   "outputs": [],
   "source": [
    "print 549+342"
   ]
  },
  {
   "cell_type": "code",
   "execution_count": null,
   "metadata": {
    "collapsed": false,
    "jupyter": {
     "outputs_hidden": false
    }
   },
   "outputs": [],
   "source": [
    "surv_proc=342.0*100/(549.0+342)\n",
    "print surv_proc"
   ]
  },
  {
   "cell_type": "markdown",
   "metadata": {},
   "source": [
    "# Class"
   ]
  },
  {
   "cell_type": "code",
   "execution_count": null,
   "metadata": {
    "collapsed": false,
    "jupyter": {
     "outputs_hidden": false
    }
   },
   "outputs": [],
   "source": [
    "class_all=data['Pclass']\n",
    "classes_set=set(class_all)\n",
    "print classes_set"
   ]
  },
  {
   "cell_type": "code",
   "execution_count": null,
   "metadata": {
    "collapsed": false,
    "jupyter": {
     "outputs_hidden": false
    }
   },
   "outputs": [],
   "source": [
    "counter=collections.Counter(class_all)\n",
    "print(counter)"
   ]
  },
  {
   "cell_type": "code",
   "execution_count": null,
   "metadata": {
    "collapsed": false,
    "jupyter": {
     "outputs_hidden": false
    }
   },
   "outputs": [],
   "source": [
    "first_proc=216.0*100/(491+216+184)\n",
    "print first_proc"
   ]
  },
  {
   "cell_type": "code",
   "execution_count": null,
   "metadata": {
    "collapsed": false,
    "jupyter": {
     "outputs_hidden": false
    }
   },
   "outputs": [],
   "source": [
    "print 491+216+184"
   ]
  },
  {
   "cell_type": "markdown",
   "metadata": {},
   "source": [
    "# Age medianand average"
   ]
  },
  {
   "cell_type": "code",
   "execution_count": null,
   "metadata": {
    "collapsed": false,
    "jupyter": {
     "outputs_hidden": false
    }
   },
   "outputs": [],
   "source": [
    "age_all=data['Age']\n",
    "age_all_arr=np.asarray(age_all)\n",
    "age_all_arr_clean=age_all_arr[~np.isnan(age_all_arr)]\n",
    "print age_all_arr_clean"
   ]
  },
  {
   "cell_type": "code",
   "execution_count": null,
   "metadata": {
    "collapsed": false,
    "jupyter": {
     "outputs_hidden": false
    }
   },
   "outputs": [],
   "source": [
    "mediana=np.median(age_all_arr_clean)\n",
    "print mediana\n"
   ]
  },
  {
   "cell_type": "code",
   "execution_count": null,
   "metadata": {
    "collapsed": false,
    "jupyter": {
     "outputs_hidden": false
    }
   },
   "outputs": [],
   "source": [
    "mean=np.mean(age_all_arr_clean)\n",
    "print mean"
   ]
  },
  {
   "cell_type": "markdown",
   "metadata": {},
   "source": [
    "# Pirson correlation"
   ]
  },
  {
   "cell_type": "code",
   "execution_count": null,
   "metadata": {
    "collapsed": true,
    "jupyter": {
     "outputs_hidden": true
    }
   },
   "outputs": [],
   "source": [
    "from scipy.stats.stats import pearsonr"
   ]
  },
  {
   "cell_type": "code",
   "execution_count": null,
   "metadata": {
    "collapsed": false,
    "jupyter": {
     "outputs_hidden": false
    }
   },
   "outputs": [],
   "source": [
    "pearson_corr=pearsonr(data['SibSp'], data['Parch'])\n",
    "print pearson_corr"
   ]
  },
  {
   "cell_type": "markdown",
   "metadata": {},
   "source": [
    "# most popular female name"
   ]
  },
  {
   "cell_type": "code",
   "execution_count": 1,
   "metadata": {
    "collapsed": false,
    "jupyter": {
     "outputs_hidden": false
    }
   },
   "outputs": [],
   "source": [
    "import numpy as np\n",
    "import pandas\n",
    "data = pandas.read_csv('/Volumes/fast64/My/MachineLearning/Lesson02/practival/titanic.csv', index_col='PassengerId')\n"
   ]
  },
  {
   "cell_type": "code",
   "execution_count": 2,
   "metadata": {
    "collapsed": false,
    "jupyter": {
     "outputs_hidden": false
    }
   },
   "outputs": [
    {
     "name": "stdout",
     "output_type": "stream",
     "text": [
      "             Survived  Pclass  \\\n",
      "PassengerId                     \n",
      "2                   1       1   \n",
      "3                   1       3   \n",
      "4                   1       1   \n",
      "9                   1       3   \n",
      "10                  1       2   \n",
      "11                  1       3   \n",
      "12                  1       1   \n",
      "15                  0       3   \n",
      "16                  1       2   \n",
      "19                  0       3   \n",
      "20                  1       3   \n",
      "23                  1       3   \n",
      "25                  0       3   \n",
      "26                  1       3   \n",
      "29                  1       3   \n",
      "32                  1       1   \n",
      "33                  1       3   \n",
      "39                  0       3   \n",
      "40                  1       3   \n",
      "41                  0       3   \n",
      "42                  0       2   \n",
      "44                  1       2   \n",
      "45                  1       3   \n",
      "48                  1       3   \n",
      "50                  0       3   \n",
      "53                  1       1   \n",
      "54                  1       2   \n",
      "57                  1       2   \n",
      "59                  1       2   \n",
      "62                  1       1   \n",
      "...               ...     ...   \n",
      "808                 0       3   \n",
      "810                 1       1   \n",
      "814                 0       3   \n",
      "817                 0       3   \n",
      "821                 1       1   \n",
      "824                 1       3   \n",
      "830                 1       1   \n",
      "831                 1       3   \n",
      "836                 1       1   \n",
      "843                 1       1   \n",
      "850                 1       1   \n",
      "853                 0       3   \n",
      "854                 1       1   \n",
      "855                 0       2   \n",
      "856                 1       3   \n",
      "857                 1       1   \n",
      "859                 1       3   \n",
      "863                 1       1   \n",
      "864                 0       3   \n",
      "866                 1       2   \n",
      "867                 1       2   \n",
      "872                 1       1   \n",
      "875                 1       2   \n",
      "876                 1       3   \n",
      "880                 1       1   \n",
      "881                 1       2   \n",
      "883                 0       3   \n",
      "886                 0       3   \n",
      "888                 1       1   \n",
      "889                 0       3   \n",
      "\n",
      "                                                          Name     Sex  Age  \\\n",
      "PassengerId                                                                   \n",
      "2            Cumings, Mrs. John Bradley (Florence Briggs Th...  female   38   \n",
      "3                                       Heikkinen, Miss. Laina  female   26   \n",
      "4                 Futrelle, Mrs. Jacques Heath (Lily May Peel)  female   35   \n",
      "9            Johnson, Mrs. Oscar W (Elisabeth Vilhelmina Berg)  female   27   \n",
      "10                         Nasser, Mrs. Nicholas (Adele Achem)  female   14   \n",
      "11                             Sandstrom, Miss. Marguerite Rut  female    4   \n",
      "12                                    Bonnell, Miss. Elizabeth  female   58   \n",
      "15                        Vestrom, Miss. Hulda Amanda Adolfina  female   14   \n",
      "16                            Hewlett, Mrs. (Mary D Kingcome)   female   55   \n",
      "19           Vander Planke, Mrs. Julius (Emelia Maria Vande...  female   31   \n",
      "20                                     Masselmani, Mrs. Fatima  female  NaN   \n",
      "23                                 McGowan, Miss. Anna \"Annie\"  female   15   \n",
      "25                               Palsson, Miss. Torborg Danira  female    8   \n",
      "26           Asplund, Mrs. Carl Oscar (Selma Augusta Emilia...  female   38   \n",
      "29                               O'Dwyer, Miss. Ellen \"Nellie\"  female  NaN   \n",
      "32              Spencer, Mrs. William Augustus (Marie Eugenie)  female  NaN   \n",
      "33                                    Glynn, Miss. Mary Agatha  female  NaN   \n",
      "39                          Vander Planke, Miss. Augusta Maria  female   18   \n",
      "40                                 Nicola-Yarred, Miss. Jamila  female   14   \n",
      "41              Ahlin, Mrs. Johan (Johanna Persdotter Larsson)  female   40   \n",
      "42           Turpin, Mrs. William John Robert (Dorothy Ann ...  female   27   \n",
      "44                    Laroche, Miss. Simonne Marie Anne Andree  female    3   \n",
      "45                               Devaney, Miss. Margaret Delia  female   19   \n",
      "48                                   O'Driscoll, Miss. Bridget  female  NaN   \n",
      "50               Arnold-Franchi, Mrs. Josef (Josefine Franchi)  female   18   \n",
      "53                    Harper, Mrs. Henry Sleeper (Myna Haxtun)  female   49   \n",
      "54           Faunthorpe, Mrs. Lizzie (Elizabeth Anne Wilkin...  female   29   \n",
      "57                                           Rugg, Miss. Emily  female   21   \n",
      "59                                West, Miss. Constance Mirium  female    5   \n",
      "62                                         Icard, Miss. Amelie  female   38   \n",
      "...                                                        ...     ...  ...   \n",
      "808                            Pettersson, Miss. Ellen Natalia  female   18   \n",
      "810             Chambers, Mrs. Norman Campbell (Bertha Griggs)  female   33   \n",
      "814                         Andersson, Miss. Ebba Iris Alfrida  female    6   \n",
      "817                               Heininen, Miss. Wendla Maria  female   23   \n",
      "821          Hays, Mrs. Charles Melville (Clara Jennings Gr...  female   52   \n",
      "824                                         Moor, Mrs. (Beila)  female   27   \n",
      "830                  Stone, Mrs. George Nelson (Martha Evelyn)  female   62   \n",
      "831                    Yasbeck, Mrs. Antoni (Selini Alexander)  female   15   \n",
      "836                                Compton, Miss. Sara Rebecca  female   39   \n",
      "843                                    Serepeca, Miss. Augusta  female   30   \n",
      "850               Goldenberg, Mrs. Samuel L (Edwiga Grabowska)  female  NaN   \n",
      "853                                    Boulos, Miss. Nourelain  female    9   \n",
      "854                                  Lines, Miss. Mary Conover  female   16   \n",
      "855              Carter, Mrs. Ernest Courtenay (Lilian Hughes)  female   44   \n",
      "856                                 Aks, Mrs. Sam (Leah Rosen)  female   18   \n",
      "857                 Wick, Mrs. George Dennick (Mary Hitchcock)  female   45   \n",
      "859                      Baclini, Mrs. Solomon (Latifa Qurban)  female   24   \n",
      "863          Swift, Mrs. Frederick Joel (Margaret Welles Ba...  female   48   \n",
      "864                          Sage, Miss. Dorothy Edith \"Dolly\"  female  NaN   \n",
      "866                                   Bystrom, Mrs. (Karolina)  female   42   \n",
      "867                               Duran y More, Miss. Asuncion  female   27   \n",
      "872           Beckwith, Mrs. Richard Leonard (Sallie Monypeny)  female   47   \n",
      "875                      Abelson, Mrs. Samuel (Hannah Wizosky)  female   28   \n",
      "876                           Najib, Miss. Adele Kiamie \"Jane\"  female   15   \n",
      "880              Potter, Mrs. Thomas Jr (Lily Alexenia Wilson)  female   56   \n",
      "881               Shelley, Mrs. William (Imanita Parrish Hall)  female   25   \n",
      "883                               Dahlberg, Miss. Gerda Ulrika  female   22   \n",
      "886                       Rice, Mrs. William (Margaret Norton)  female   39   \n",
      "888                               Graham, Miss. Margaret Edith  female   19   \n",
      "889                   Johnston, Miss. Catherine Helen \"Carrie\"  female  NaN   \n",
      "\n",
      "             SibSp  Parch            Ticket      Fare Cabin Embarked  \n",
      "PassengerId                                                           \n",
      "2                1      0          PC 17599   71.2833   C85        C  \n",
      "3                0      0  STON/O2. 3101282    7.9250   NaN        S  \n",
      "4                1      0            113803   53.1000  C123        S  \n",
      "9                0      2            347742   11.1333   NaN        S  \n",
      "10               1      0            237736   30.0708   NaN        C  \n",
      "11               1      1           PP 9549   16.7000    G6        S  \n",
      "12               0      0            113783   26.5500  C103        S  \n",
      "15               0      0            350406    7.8542   NaN        S  \n",
      "16               0      0            248706   16.0000   NaN        S  \n",
      "19               1      0            345763   18.0000   NaN        S  \n",
      "20               0      0              2649    7.2250   NaN        C  \n",
      "23               0      0            330923    8.0292   NaN        Q  \n",
      "25               3      1            349909   21.0750   NaN        S  \n",
      "26               1      5            347077   31.3875   NaN        S  \n",
      "29               0      0            330959    7.8792   NaN        Q  \n",
      "32               1      0          PC 17569  146.5208   B78        C  \n",
      "33               0      0            335677    7.7500   NaN        Q  \n",
      "39               2      0            345764   18.0000   NaN        S  \n",
      "40               1      0              2651   11.2417   NaN        C  \n",
      "41               1      0              7546    9.4750   NaN        S  \n",
      "42               1      0             11668   21.0000   NaN        S  \n",
      "44               1      2     SC/Paris 2123   41.5792   NaN        C  \n",
      "45               0      0            330958    7.8792   NaN        Q  \n",
      "48               0      0             14311    7.7500   NaN        Q  \n",
      "50               1      0            349237   17.8000   NaN        S  \n",
      "53               1      0          PC 17572   76.7292   D33        C  \n",
      "54               1      0              2926   26.0000   NaN        S  \n",
      "57               0      0        C.A. 31026   10.5000   NaN        S  \n",
      "59               1      2        C.A. 34651   27.7500   NaN        S  \n",
      "62               0      0            113572   80.0000   B28      NaN  \n",
      "...            ...    ...               ...       ...   ...      ...  \n",
      "808              0      0            347087    7.7750   NaN        S  \n",
      "810              1      0            113806   53.1000    E8        S  \n",
      "814              4      2            347082   31.2750   NaN        S  \n",
      "817              0      0  STON/O2. 3101290    7.9250   NaN        S  \n",
      "821              1      1             12749   93.5000   B69        S  \n",
      "824              0      1            392096   12.4750  E121        S  \n",
      "830              0      0            113572   80.0000   B28      NaN  \n",
      "831              1      0              2659   14.4542   NaN        C  \n",
      "836              1      1          PC 17756   83.1583   E49        C  \n",
      "843              0      0            113798   31.0000   NaN        C  \n",
      "850              1      0             17453   89.1042   C92        C  \n",
      "853              1      1              2678   15.2458   NaN        C  \n",
      "854              0      1          PC 17592   39.4000   D28        S  \n",
      "855              1      0            244252   26.0000   NaN        S  \n",
      "856              0      1            392091    9.3500   NaN        S  \n",
      "857              1      1             36928  164.8667   NaN        S  \n",
      "859              0      3              2666   19.2583   NaN        C  \n",
      "863              0      0             17466   25.9292   D17        S  \n",
      "864              8      2          CA. 2343   69.5500   NaN        S  \n",
      "866              0      0            236852   13.0000   NaN        S  \n",
      "867              1      0     SC/PARIS 2149   13.8583   NaN        C  \n",
      "872              1      1             11751   52.5542   D35        S  \n",
      "875              1      0         P/PP 3381   24.0000   NaN        C  \n",
      "876              0      0              2667    7.2250   NaN        C  \n",
      "880              0      1             11767   83.1583   C50        C  \n",
      "881              0      1            230433   26.0000   NaN        S  \n",
      "883              0      0              7552   10.5167   NaN        S  \n",
      "886              0      5            382652   29.1250   NaN        Q  \n",
      "888              0      0            112053   30.0000   B42        S  \n",
      "889              1      2        W./C. 6607   23.4500   NaN        S  \n",
      "\n",
      "[314 rows x 11 columns]\n"
     ]
    }
   ],
   "source": [
    "data_females=data[data['Sex'].isin(['female'])]\n",
    "print data_females"
   ]
  },
  {
   "cell_type": "code",
   "execution_count": 3,
   "metadata": {
    "collapsed": true,
    "jupyter": {
     "outputs_hidden": true
    }
   },
   "outputs": [],
   "source": [
    "import re"
   ]
  },
  {
   "cell_type": "code",
   "execution_count": 4,
   "metadata": {
    "collapsed": false,
    "jupyter": {
     "outputs_hidden": false
    }
   },
   "outputs": [
    {
     "name": "stderr",
     "output_type": "stream",
     "text": [
      "/Library/Frameworks/Python.framework/Versions/2.7/lib/python2.7/site-packages/ipykernel/__main__.py:1: SettingWithCopyWarning: \n",
      "A value is trying to be set on a copy of a slice from a DataFrame.\n",
      "Try using .loc[row_indexer,col_indexer] = value instead\n",
      "\n",
      "See the caveats in the documentation: http://pandas.pydata.org/pandas-docs/stable/indexing.html#indexing-view-versus-copy\n",
      "  if __name__ == '__main__':\n"
     ]
    }
   ],
   "source": [
    "data_females['First_name']=''"
   ]
  },
  {
   "cell_type": "code",
   "execution_count": null,
   "metadata": {
    "collapsed": false,
    "jupyter": {
     "outputs_hidden": false
    }
   },
   "outputs": [],
   "source": [
    "re.search(r'.*(Miss|Mrs)\\.?\\s(\\w*)\\s.*', 'Goldenberg, Mrs. Samuel L (Edwiga Grabowska)', re.I).group(2)"
   ]
  },
  {
   "cell_type": "code",
   "execution_count": null,
   "metadata": {
    "collapsed": false,
    "jupyter": {
     "outputs_hidden": false
    }
   },
   "outputs": [],
   "source": [
    "start_dt = data_females.index.min()\n",
    "end_dt = data_females.index.max()\n",
    "\n",
    "cur_dt = start_dt\n",
    "\n",
    "while cur_dt != end_dt:\n",
    "    if cur_dt in data_females.index:\n",
    "       data_females.First_name[cur_dt]=re.search(r'.*(Miss|Mrs)\\.?\\s(\\w*)\\s.*', data_females.Name[cur_dt], re.I).group(2)\n"
   ]
  },
  {
   "cell_type": "code",
   "execution_count": null,
   "metadata": {
    "collapsed": false,
    "jupyter": {
     "outputs_hidden": false
    }
   },
   "outputs": [],
   "source": [
    "print type(data_females)"
   ]
  },
  {
   "cell_type": "code",
   "execution_count": null,
   "metadata": {
    "collapsed": true,
    "jupyter": {
     "outputs_hidden": true
    }
   },
   "outputs": [],
   "source": []
  }
 ],
 "metadata": {
  "kernelspec": {
   "display_name": "Python 3 (ipykernel)",
   "language": "python",
   "name": "python3"
  },
  "language_info": {
   "codemirror_mode": {
    "name": "ipython",
    "version": 3
   },
   "file_extension": ".py",
   "mimetype": "text/x-python",
   "name": "python",
   "nbconvert_exporter": "python",
   "pygments_lexer": "ipython3",
   "version": "3.12.4"
  }
 },
 "nbformat": 4,
 "nbformat_minor": 4
}
