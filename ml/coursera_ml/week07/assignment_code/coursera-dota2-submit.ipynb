{
 "cells": [
  {
   "cell_type": "markdown",
   "metadata": {},
   "source": [
    "# Подход 1: градиентный бустинг \"в лоб\""
   ]
  },
  {
   "cell_type": "markdown",
   "metadata": {},
   "source": [
    "<font color='blue'>\n",
    "Считайте таблицу с признаками из файла features.csv с помощью кода, приведенного выше. \n",
    "Удалите признаки, связанные с итогами матча (они помечены в описании данных как отсутствующие в тестовой выборке).\n",
    "</font>"
   ]
  },
  {
   "cell_type": "code",
   "execution_count": null,
   "metadata": {
    "collapsed": false,
    "jupyter": {
     "outputs_hidden": false
    }
   },
   "outputs": [
    {
     "data": {
      "text/html": [
       "<div>\n",
       "<table border=\"1\" class=\"dataframe\">\n",
       "  <thead>\n",
       "    <tr style=\"text-align: right;\">\n",
       "      <th></th>\n",
       "      <th>start_time</th>\n",
       "      <th>lobby_type</th>\n",
       "      <th>r1_hero</th>\n",
       "      <th>r1_level</th>\n",
       "      <th>r1_xp</th>\n",
       "      <th>r1_gold</th>\n",
       "      <th>r1_lh</th>\n",
       "      <th>r1_kills</th>\n",
       "      <th>r1_deaths</th>\n",
       "      <th>r1_items</th>\n",
       "      <th>...</th>\n",
       "      <th>dire_boots_count</th>\n",
       "      <th>dire_ward_observer_count</th>\n",
       "      <th>dire_ward_sentry_count</th>\n",
       "      <th>dire_first_ward_time</th>\n",
       "      <th>duration</th>\n",
       "      <th>radiant_win</th>\n",
       "      <th>tower_status_radiant</th>\n",
       "      <th>tower_status_dire</th>\n",
       "      <th>barracks_status_radiant</th>\n",
       "      <th>barracks_status_dire</th>\n",
       "    </tr>\n",
       "    <tr>\n",
       "      <th>match_id</th>\n",
       "      <th></th>\n",
       "      <th></th>\n",
       "      <th></th>\n",
       "      <th></th>\n",
       "      <th></th>\n",
       "      <th></th>\n",
       "      <th></th>\n",
       "      <th></th>\n",
       "      <th></th>\n",
       "      <th></th>\n",
       "      <th></th>\n",
       "      <th></th>\n",
       "      <th></th>\n",
       "      <th></th>\n",
       "      <th></th>\n",
       "      <th></th>\n",
       "      <th></th>\n",
       "      <th></th>\n",
       "      <th></th>\n",
       "      <th></th>\n",
       "      <th></th>\n",
       "    </tr>\n",
       "  </thead>\n",
       "  <tbody>\n",
       "    <tr>\n",
       "      <th>0</th>\n",
       "      <td>1430198770</td>\n",
       "      <td>7</td>\n",
       "      <td>11</td>\n",
       "      <td>5</td>\n",
       "      <td>2098</td>\n",
       "      <td>1489</td>\n",
       "      <td>20</td>\n",
       "      <td>0</td>\n",
       "      <td>0</td>\n",
       "      <td>7</td>\n",
       "      <td>...</td>\n",
       "      <td>4</td>\n",
       "      <td>2</td>\n",
       "      <td>2</td>\n",
       "      <td>-52</td>\n",
       "      <td>2874</td>\n",
       "      <td>1</td>\n",
       "      <td>1796</td>\n",
       "      <td>0</td>\n",
       "      <td>51</td>\n",
       "      <td>0</td>\n",
       "    </tr>\n",
       "    <tr>\n",
       "      <th>1</th>\n",
       "      <td>1430220345</td>\n",
       "      <td>0</td>\n",
       "      <td>42</td>\n",
       "      <td>4</td>\n",
       "      <td>1188</td>\n",
       "      <td>1033</td>\n",
       "      <td>9</td>\n",
       "      <td>0</td>\n",
       "      <td>1</td>\n",
       "      <td>12</td>\n",
       "      <td>...</td>\n",
       "      <td>4</td>\n",
       "      <td>3</td>\n",
       "      <td>1</td>\n",
       "      <td>-5</td>\n",
       "      <td>2463</td>\n",
       "      <td>1</td>\n",
       "      <td>1974</td>\n",
       "      <td>0</td>\n",
       "      <td>63</td>\n",
       "      <td>1</td>\n",
       "    </tr>\n",
       "    <tr>\n",
       "      <th>2</th>\n",
       "      <td>1430227081</td>\n",
       "      <td>7</td>\n",
       "      <td>33</td>\n",
       "      <td>4</td>\n",
       "      <td>1319</td>\n",
       "      <td>1270</td>\n",
       "      <td>22</td>\n",
       "      <td>0</td>\n",
       "      <td>0</td>\n",
       "      <td>12</td>\n",
       "      <td>...</td>\n",
       "      <td>4</td>\n",
       "      <td>3</td>\n",
       "      <td>1</td>\n",
       "      <td>13</td>\n",
       "      <td>2130</td>\n",
       "      <td>0</td>\n",
       "      <td>0</td>\n",
       "      <td>1830</td>\n",
       "      <td>0</td>\n",
       "      <td>63</td>\n",
       "    </tr>\n",
       "    <tr>\n",
       "      <th>3</th>\n",
       "      <td>1430263531</td>\n",
       "      <td>1</td>\n",
       "      <td>29</td>\n",
       "      <td>4</td>\n",
       "      <td>1779</td>\n",
       "      <td>1056</td>\n",
       "      <td>14</td>\n",
       "      <td>0</td>\n",
       "      <td>0</td>\n",
       "      <td>5</td>\n",
       "      <td>...</td>\n",
       "      <td>4</td>\n",
       "      <td>2</td>\n",
       "      <td>0</td>\n",
       "      <td>27</td>\n",
       "      <td>1459</td>\n",
       "      <td>0</td>\n",
       "      <td>1920</td>\n",
       "      <td>2047</td>\n",
       "      <td>50</td>\n",
       "      <td>63</td>\n",
       "    </tr>\n",
       "    <tr>\n",
       "      <th>4</th>\n",
       "      <td>1430282290</td>\n",
       "      <td>7</td>\n",
       "      <td>13</td>\n",
       "      <td>4</td>\n",
       "      <td>1431</td>\n",
       "      <td>1090</td>\n",
       "      <td>8</td>\n",
       "      <td>1</td>\n",
       "      <td>0</td>\n",
       "      <td>8</td>\n",
       "      <td>...</td>\n",
       "      <td>3</td>\n",
       "      <td>3</td>\n",
       "      <td>0</td>\n",
       "      <td>-16</td>\n",
       "      <td>2449</td>\n",
       "      <td>0</td>\n",
       "      <td>4</td>\n",
       "      <td>1974</td>\n",
       "      <td>3</td>\n",
       "      <td>63</td>\n",
       "    </tr>\n",
       "  </tbody>\n",
       "</table>\n",
       "<p>5 rows × 108 columns</p>\n",
       "</div>"
      ],
      "text/plain": [
       "          start_time  lobby_type  r1_hero  r1_level  r1_xp  r1_gold  r1_lh  \\\n",
       "match_id                                                                     \n",
       "0         1430198770           7       11         5   2098     1489     20   \n",
       "1         1430220345           0       42         4   1188     1033      9   \n",
       "2         1430227081           7       33         4   1319     1270     22   \n",
       "3         1430263531           1       29         4   1779     1056     14   \n",
       "4         1430282290           7       13         4   1431     1090      8   \n",
       "\n",
       "          r1_kills  r1_deaths  r1_items          ...           \\\n",
       "match_id                                         ...            \n",
       "0                0          0         7          ...            \n",
       "1                0          1        12          ...            \n",
       "2                0          0        12          ...            \n",
       "3                0          0         5          ...            \n",
       "4                1          0         8          ...            \n",
       "\n",
       "          dire_boots_count  dire_ward_observer_count  dire_ward_sentry_count  \\\n",
       "match_id                                                                       \n",
       "0                        4                         2                       2   \n",
       "1                        4                         3                       1   \n",
       "2                        4                         3                       1   \n",
       "3                        4                         2                       0   \n",
       "4                        3                         3                       0   \n",
       "\n",
       "          dire_first_ward_time  duration  radiant_win  tower_status_radiant  \\\n",
       "match_id                                                                      \n",
       "0                          -52      2874            1                  1796   \n",
       "1                           -5      2463            1                  1974   \n",
       "2                           13      2130            0                     0   \n",
       "3                           27      1459            0                  1920   \n",
       "4                          -16      2449            0                     4   \n",
       "\n",
       "          tower_status_dire  barracks_status_radiant  barracks_status_dire  \n",
       "match_id                                                                    \n",
       "0                         0                       51                     0  \n",
       "1                         0                       63                     1  \n",
       "2                      1830                        0                    63  \n",
       "3                      2047                       50                    63  \n",
       "4                      1974                        3                    63  \n",
       "\n",
       "[5 rows x 108 columns]"
      ]
     },
     "execution_count": 1,
     "metadata": {},
     "output_type": "execute_result"
    }
   ],
   "source": [
    "# Считайте таблицу с признаками из файла features.csv с помощью кода, приведенного выше. \n",
    "import pandas\n",
    "features = pandas.read_csv('../dota_kaggle_features/features.csv', index_col='match_id')\n",
    "features.head()"
   ]
  },
  {
   "cell_type": "code",
   "execution_count": 2,
   "metadata": {
    "collapsed": false,
    "jupyter": {
     "outputs_hidden": false
    }
   },
   "outputs": [
    {
     "name": "stdout",
     "output_type": "stream",
     "text": [
      "<class 'pandas.core.frame.DataFrame'>\n",
      "Int64Index: 97230 entries, 0 to 114406\n",
      "Columns: 108 entries, start_time to barracks_status_dire\n",
      "dtypes: float64(12), int64(96)\n",
      "memory usage: 80.9 MB\n"
     ]
    },
    {
     "data": {
      "text/plain": [
       "['start_time',\n",
       " 'lobby_type',\n",
       " 'r1_hero',\n",
       " 'r1_level',\n",
       " 'r1_xp',\n",
       " 'r1_gold',\n",
       " 'r1_lh',\n",
       " 'r1_kills',\n",
       " 'r1_deaths',\n",
       " 'r1_items',\n",
       " 'r2_hero',\n",
       " 'r2_level',\n",
       " 'r2_xp',\n",
       " 'r2_gold',\n",
       " 'r2_lh',\n",
       " 'r2_kills',\n",
       " 'r2_deaths',\n",
       " 'r2_items',\n",
       " 'r3_hero',\n",
       " 'r3_level',\n",
       " 'r3_xp',\n",
       " 'r3_gold',\n",
       " 'r3_lh',\n",
       " 'r3_kills',\n",
       " 'r3_deaths',\n",
       " 'r3_items',\n",
       " 'r4_hero',\n",
       " 'r4_level',\n",
       " 'r4_xp',\n",
       " 'r4_gold',\n",
       " 'r4_lh',\n",
       " 'r4_kills',\n",
       " 'r4_deaths',\n",
       " 'r4_items',\n",
       " 'r5_hero',\n",
       " 'r5_level',\n",
       " 'r5_xp',\n",
       " 'r5_gold',\n",
       " 'r5_lh',\n",
       " 'r5_kills',\n",
       " 'r5_deaths',\n",
       " 'r5_items',\n",
       " 'd1_hero',\n",
       " 'd1_level',\n",
       " 'd1_xp',\n",
       " 'd1_gold',\n",
       " 'd1_lh',\n",
       " 'd1_kills',\n",
       " 'd1_deaths',\n",
       " 'd1_items',\n",
       " 'd2_hero',\n",
       " 'd2_level',\n",
       " 'd2_xp',\n",
       " 'd2_gold',\n",
       " 'd2_lh',\n",
       " 'd2_kills',\n",
       " 'd2_deaths',\n",
       " 'd2_items',\n",
       " 'd3_hero',\n",
       " 'd3_level',\n",
       " 'd3_xp',\n",
       " 'd3_gold',\n",
       " 'd3_lh',\n",
       " 'd3_kills',\n",
       " 'd3_deaths',\n",
       " 'd3_items',\n",
       " 'd4_hero',\n",
       " 'd4_level',\n",
       " 'd4_xp',\n",
       " 'd4_gold',\n",
       " 'd4_lh',\n",
       " 'd4_kills',\n",
       " 'd4_deaths',\n",
       " 'd4_items',\n",
       " 'd5_hero',\n",
       " 'd5_level',\n",
       " 'd5_xp',\n",
       " 'd5_gold',\n",
       " 'd5_lh',\n",
       " 'd5_kills',\n",
       " 'd5_deaths',\n",
       " 'd5_items',\n",
       " 'first_blood_time',\n",
       " 'first_blood_team',\n",
       " 'first_blood_player1',\n",
       " 'first_blood_player2',\n",
       " 'radiant_bottle_time',\n",
       " 'radiant_courier_time',\n",
       " 'radiant_flying_courier_time',\n",
       " 'radiant_tpscroll_count',\n",
       " 'radiant_boots_count',\n",
       " 'radiant_ward_observer_count',\n",
       " 'radiant_ward_sentry_count',\n",
       " 'radiant_first_ward_time',\n",
       " 'dire_bottle_time',\n",
       " 'dire_courier_time',\n",
       " 'dire_flying_courier_time',\n",
       " 'dire_tpscroll_count',\n",
       " 'dire_boots_count',\n",
       " 'dire_ward_observer_count',\n",
       " 'dire_ward_sentry_count',\n",
       " 'dire_first_ward_time',\n",
       " 'duration',\n",
       " 'radiant_win',\n",
       " 'tower_status_radiant',\n",
       " 'tower_status_dire',\n",
       " 'barracks_status_radiant',\n",
       " 'barracks_status_dire']"
      ]
     },
     "execution_count": 2,
     "metadata": {},
     "output_type": "execute_result"
    }
   ],
   "source": [
    "features.info()\n",
    "features.columns.values.tolist()"
   ]
  },
  {
   "cell_type": "code",
   "execution_count": 4,
   "metadata": {
    "collapsed": true,
    "jupyter": {
     "outputs_hidden": true
    }
   },
   "outputs": [],
   "source": [
    "# Удалите признаки, связанные с итогами матча (они помечены в описании данных как отсутствующие в тестовой выборке).\n",
    "'''\n",
    "Итог матча (данные поля отсутствуют в тестовой выборке, поскольку содержат информацию, выходящую за пределы первых 5 минут матча)\n",
    "duration: длительность\n",
    "radiant_win: 1, если победила команда Radiant, 0 — иначе\n",
    "Состояние башен и барраков к концу матча (см. описание полей набора данных)\n",
    "tower_status_radiant\n",
    "tower_status_dire\n",
    "barracks_status_radiant\n",
    "barracks_status_dire\n",
    "'''\n",
    "rez_col_names = [\n",
    "    'duration',\n",
    "    'radiant_win',\n",
    "    'tower_status_radiant',\n",
    "    'tower_status_dire',\n",
    "    'barracks_status_radiant',\n",
    "    'barracks_status_dire'\n",
    "]\n",
    "\n",
    "# res_info = features[rez_col_names]\n",
    "match_info = features.drop(rez_col_names, axis=1)\n",
    "\n",
    "y = features['radiant_win']"
   ]
  },
  {
   "cell_type": "code",
   "execution_count": null,
   "metadata": {
    "collapsed": true,
    "jupyter": {
     "outputs_hidden": true
    }
   },
   "outputs": [],
   "source": []
  },
  {
   "cell_type": "markdown",
   "metadata": {},
   "source": [
    "<font color='blue'>\n",
    "Проверьте выборку на наличие пропусков с помощью функции count(), которая для каждого столбца показывает число заполненных значений. Много ли пропусков в данных? Запишите названия признаков, имеющих пропуски, и попробуйте для любых двух из них дать обоснование, почему их значения могут быть пропущены.\n",
    "</font>"
   ]
  },
  {
   "cell_type": "code",
   "execution_count": 6,
   "metadata": {
    "collapsed": false,
    "jupyter": {
     "outputs_hidden": false
    }
   },
   "outputs": [
    {
     "name": "stdout",
     "output_type": "stream",
     "text": [
      "Q: Много ли пропусков в данных?\n",
      "A:  12 признаков имеют пропуски в данных? \n",
      "\n",
      "названия признаков, имеющих пропуски\n",
      "first_blood_time               77677\n",
      "first_blood_team               77677\n",
      "first_blood_player1            77677\n",
      "first_blood_player2            53243\n",
      "radiant_bottle_time            81539\n",
      "radiant_courier_time           96538\n",
      "radiant_flying_courier_time    69751\n",
      "radiant_first_ward_time        95394\n",
      "dire_bottle_time               81087\n",
      "dire_courier_time              96554\n",
      "dire_flying_courier_time       71132\n",
      "dire_first_ward_time           95404\n",
      "dtype: int64\n"
     ]
    }
   ],
   "source": [
    "match_info_count = match_info.count()\n",
    "missing_data_columns_info = match_info_count[match_info_count != match_info_count.max()]\n",
    "\n",
    "print \"Q: Много ли пропусков в данных?\"\n",
    "print \"A: \",len(missing_data_columns_info),\"признаков имеют пропуски в данных?\",\"\\n\"\n",
    "\n",
    "print  \"названия признаков, имеющих пропуски\"\n",
    "\n",
    "\n",
    "print missing_data_columns_info\n",
    "# !!!!!!!!!!! посчитать % пропуска"
   ]
  },
  {
   "cell_type": "markdown",
   "metadata": {},
   "source": [
    "<font color='green'>\n",
    "Q: попробуйте для любых двух из них дать обоснование, почему их значения могут быть пропущены <br/>\n",
    "A:  <br/>\n",
    "поля <b>first_blood_time, first_blood_team, first_blood_player1</b><br/>\n",
    "не было первой крови в первые 5 минут\n",
    "</font>"
   ]
  },
  {
   "cell_type": "markdown",
   "metadata": {},
   "source": [
    "<font color='blue'>\n",
    "Замените пропуски на нули с помощью функции fillna(). На самом деле этот способ является предпочтительным для логистической регрессии, поскольку он позволит пропущенному значению не вносить никакого вклада в предсказание. Для деревьев часто лучшим вариантом оказывается замена пропуска на очень большое или очень маленькое значение — в этом случае при построении разбиения вершины можно будет отправить объекты с пропусками в отдельную ветвь дерева. Также есть и другие подходы — например, замена пропуска на среднее значение признака. Мы не требуем этого в задании, но при желании попробуйте разные подходы к обработке пропусков и сравните их между собой.\n",
    "</font>"
   ]
  },
  {
   "cell_type": "code",
   "execution_count": 7,
   "metadata": {
    "collapsed": false,
    "jupyter": {
     "outputs_hidden": false
    }
   },
   "outputs": [],
   "source": [
    "X = match_info.fillna(0)"
   ]
  },
  {
   "cell_type": "code",
   "execution_count": 8,
   "metadata": {
    "collapsed": false,
    "jupyter": {
     "outputs_hidden": false
    }
   },
   "outputs": [
    {
     "name": "stdout",
     "output_type": "stream",
     "text": [
      "Количество признаков с пропусками после заполнения = 0\n"
     ]
    }
   ],
   "source": [
    "# проверим, что нет признаков с пропусками\n",
    "X_count=X.count()\n",
    "ZZZ = X_count[X_count != X_count.max()]\n",
    "print \"Количество признаков с пропусками после заполнения =\", ZZZ.size"
   ]
  },
  {
   "cell_type": "code",
   "execution_count": null,
   "metadata": {
    "collapsed": true,
    "jupyter": {
     "outputs_hidden": true
    }
   },
   "outputs": [],
   "source": []
  },
  {
   "cell_type": "markdown",
   "metadata": {},
   "source": [
    "<font color='blue'>\n",
    "Какой столбец содержит целевую переменную? Запишите его название.\n",
    "</font>"
   ]
  },
  {
   "cell_type": "markdown",
   "metadata": {},
   "source": [
    "<font color='green'>\n",
    "Q: Какой столбец содержит целевую переменную? Запишите его название. <br/>\n",
    "A:  <br/>\n",
    "столбец <b>radiant_win</b><br/>\n",
    "1, если победила команда Radiant, 0 — иначе\n",
    "</font>"
   ]
  },
  {
   "cell_type": "code",
   "execution_count": null,
   "metadata": {
    "collapsed": true,
    "jupyter": {
     "outputs_hidden": true
    }
   },
   "outputs": [],
   "source": []
  },
  {
   "cell_type": "markdown",
   "metadata": {},
   "source": [
    "<font color='blue'>\n",
    "Забудем, что в выборке есть категориальные признаки, и попробуем обучить градиентный бустинг над деревьями на имеющейся матрице \"объекты-признаки\". Зафиксируйте генератор разбиений для кросс-валидации по 5 блокам (KFold), не забудьте перемешать при этом выборку (shuffle=True), поскольку данные в таблице отсортированы по времени, и без перемешивания можно столкнуться с нежелательными эффектами при оценивании качества. Оцените качество градиентного бустинга (GradientBoostingClassifier) с помощью данной кросс-валидации, попробуйте при этом разное количество деревьев (как минимум протестируйте следующие значения для количества деревьев: 10, 20, 30). Долго ли настраивались классификаторы? Достигнут ли оптимум на испытанных значениях параметра n_estimators, или же качество, скорее всего, продолжит расти при дальнейшем его увеличении?\n",
    "</font>"
   ]
  },
  {
   "cell_type": "code",
   "execution_count": 9,
   "metadata": {
    "collapsed": true,
    "jupyter": {
     "outputs_hidden": true
    }
   },
   "outputs": [],
   "source": [
    "# annoying warnings disabling\n",
    "import warnings\n",
    "warnings.filterwarnings(\"ignore\")"
   ]
  },
  {
   "cell_type": "code",
   "execution_count": 35,
   "metadata": {
    "collapsed": false,
    "jupyter": {
     "outputs_hidden": false
    }
   },
   "outputs": [],
   "source": [
    "from sklearn.ensemble import GradientBoostingClassifier\n",
    "from sklearn.cross_validation import cross_val_score\n",
    "from sklearn.cross_validation import KFold\n",
    "import datetime\n",
    "\n",
    "def calculate_scores_for_estimators(n_estimators, max_depth=3):\n",
    "    start_time = datetime.datetime.now()\n",
    "    clf = GradientBoostingClassifier(n_estimators=n_estimators,\n",
    "        random_state=555, max_depth=max_depth,\n",
    "    )\n",
    "    k_fold = KFold(len(y), n_folds=5, random_state=555, shuffle=True)\n",
    "    local_scores = cross_val_score(clf, X, y, cv=k_fold, scoring='roc_auc')\n",
    "    print 'n_estimators =', n_estimators, 'max_depth=', max_depth, 'Time elapsed:', datetime.datetime.now() - start_time\n",
    "    return local_scores.mean(), local_scores.std()"
   ]
  },
  {
   "cell_type": "code",
   "execution_count": 45,
   "metadata": {
    "collapsed": false,
    "jupyter": {
     "outputs_hidden": false
    }
   },
   "outputs": [
    {
     "name": "stdout",
     "output_type": "stream",
     "text": [
      "n_estimators = 10 max_depth= 3 Time elapsed: 0:00:33.491465\n",
      "n_estimators = 20 max_depth= 3 Time elapsed: 0:00:59.361122\n",
      "n_estimators = 30 max_depth= 3 Time elapsed: 0:01:21.811880\n",
      "n_estimators = 100 max_depth= 3 Time elapsed: 0:04:32.975440\n",
      "n_estimators = 200 max_depth= 3 Time elapsed: 0:09:17.470214\n"
     ]
    },
    {
     "data": {
      "text/plain": [
       "[(10, (0.66468727552414852, 0.0038817045833836159)),\n",
       " (20, (0.6828011517711976, 0.0024973305989101943)),\n",
       " (30, (0.6899013263995214, 0.0025253491889204232)),\n",
       " (100, (0.70652239217616875, 0.0030394770165450588)),\n",
       " (200, (0.71358162542367565, 0.0036940112134090986))]"
      ]
     },
     "execution_count": 45,
     "metadata": {},
     "output_type": "execute_result"
    }
   ],
   "source": [
    "# Считаем для 10,20,30, 100, 200 - max_depth=3\n",
    "rez_scores_3 = list()\n",
    "for n_estimators in [10,20,30,100, 200]:    \n",
    "    rez_scores_3.append((n_estimators, calculate_scores_for_estimators(n_estimators=n_estimators)))    \n",
    "rez_scores_3"
   ]
  },
  {
   "cell_type": "code",
   "execution_count": 46,
   "metadata": {
    "collapsed": false,
    "jupyter": {
     "outputs_hidden": false
    }
   },
   "outputs": [
    {
     "name": "stdout",
     "output_type": "stream",
     "text": [
      "n_estimators = 10 max_depth= 2 Time elapsed: 0:00:20.809590\n",
      "n_estimators = 20 max_depth= 2 Time elapsed: 0:00:35.305883\n",
      "n_estimators = 30 max_depth= 2 Time elapsed: 0:00:47.677842\n"
     ]
    },
    {
     "data": {
      "text/plain": [
       "[(10, (0.6519421989913512, 0.007130222524202247)),\n",
       " (20, (0.6740433400311856, 0.0040364255259091614)),\n",
       " (30, (0.68312542263704135, 0.0036815837502438067))]"
      ]
     },
     "execution_count": 46,
     "metadata": {},
     "output_type": "execute_result"
    }
   ],
   "source": [
    "# Считаем для 10,20,30 - max_depth=2\n",
    "rez_scores_2 = list()\n",
    "for n_estimators in [10,20,30]:    \n",
    "    rez_scores_2.append((n_estimators, calculate_scores_for_estimators(n_estimators=n_estimators, max_depth=2)))    \n",
    "rez_scores_2"
   ]
  },
  {
   "cell_type": "code",
   "execution_count": 47,
   "metadata": {
    "collapsed": false,
    "jupyter": {
     "outputs_hidden": false
    }
   },
   "outputs": [
    {
     "name": "stdout",
     "output_type": "stream",
     "text": [
      "n_estimators = 10 max_depth= 6 Time elapsed: 0:01:54.204002\n",
      "n_estimators = 20 max_depth= 6 Time elapsed: 0:03:45.261608\n",
      "n_estimators = 30 max_depth= 6 Time elapsed: 0:05:31.770090\n"
     ]
    },
    {
     "data": {
      "text/plain": [
       "[(10, (0.68222882417589958, 0.0042260561867111949)),\n",
       " (20, (0.69494998648901041, 0.0031337980686849207)),\n",
       " (30, (0.70085551658120337, 0.0028377581510158401))]"
      ]
     },
     "execution_count": 47,
     "metadata": {},
     "output_type": "execute_result"
    }
   ],
   "source": [
    "# Считаем для 10,20,30 - max_depth=6\n",
    "rez_scores_6 = list()\n",
    "for n_estimators in [10,20,30]:    \n",
    "    rez_scores_6.append((n_estimators, calculate_scores_for_estimators(n_estimators=n_estimators, max_depth=6)))    \n",
    "rez_scores_6"
   ]
  },
  {
   "cell_type": "markdown",
   "metadata": {},
   "source": [
    "# Подход 2: логистическая регрессия"
   ]
  },
  {
   "cell_type": "markdown",
   "metadata": {},
   "source": [
    "<font color='blue'>\n",
    "<b>Важно</b>: не забывайте, что линейные алгоритмы чувствительны к масштабу признаков! Может пригодиться sklearn.preprocessing.StandartScaler.\n",
    "</font>"
   ]
  },
  {
   "cell_type": "code",
   "execution_count": 10,
   "metadata": {
    "collapsed": true,
    "jupyter": {
     "outputs_hidden": true
    }
   },
   "outputs": [],
   "source": [
    "from sklearn.preprocessing import StandardScaler\n",
    "X_std_scal = StandardScaler().fit_transform(X)"
   ]
  },
  {
   "cell_type": "code",
   "execution_count": 11,
   "metadata": {
    "collapsed": false,
    "jupyter": {
     "outputs_hidden": false
    }
   },
   "outputs": [],
   "source": [
    "from sklearn.grid_search import GridSearchCV\n",
    "from sklearn.linear_model import LogisticRegression\n",
    "from sklearn.cross_validation import KFold\n",
    "import numpy as np\n",
    "\n",
    "\n",
    "def calculate_logreg(X_par):\n",
    "    start_time = datetime.datetime.now()\n",
    "    param_grid = {'C': [0.00000000001, 0.0001, 0.001 ,0.01, 0.1, 1, 10, 100, 1000, 100000000] }\n",
    "\n",
    "    print \"--- initial C calculation\"\n",
    "    print param_grid\n",
    "    k_fold = KFold(len(y), n_folds=5, shuffle=True, random_state=555)\n",
    "    clf = LogisticRegression(penalty='l2', random_state=555)\n",
    "    gs_cv = GridSearchCV(clf, param_grid, scoring='roc_auc', cv=k_fold)\n",
    "    gs_cv.fit(X_par, y)\n",
    "    print \"best param = \", gs_cv.best_params_, \"best score = \", gs_cv.best_score_\n",
    "    for score in gs_cv.grid_scores_:\n",
    "        print score\n",
    "    # fine tuning for \n",
    "    fine_grid = {'C': np.add(gs_cv.best_params_.get('C'), np.multiply(np.arange(-5, 6), gs_cv.best_params_.get('C')/10))}\n",
    "    print \"--- fine C tuning\"\n",
    "    print fine_grid\n",
    "    gs_cv = GridSearchCV(clf, fine_grid, scoring='roc_auc', cv=k_fold)\n",
    "    gs_cv.fit(X_par, y)\n",
    "    print \"best param = \", gs_cv.best_params_, \"best score = \", gs_cv.best_score_\n",
    "    for score in gs_cv.grid_scores_:\n",
    "        print score\n",
    "    print 'Average time for single regression fit:', (datetime.datetime.now() - start_time)/(len(param_grid.get('C')) +len(fine_grid.get('C')))\n"
   ]
  },
  {
   "cell_type": "markdown",
   "metadata": {},
   "source": [
    "<font color='blue'>\n",
    "1. Оцените качество логистической регрессии (sklearn.linear_model.LogisticRegression с L2-регуляризацией) с помощью кросс-валидации по той же схеме, которая использовалась для градиентного бустинга. Подберите при этом лучший параметр регуляризации (C). Какое наилучшее качество у вас получилось? Как оно соотносится с качеством градиентного бустинга? Чем вы можете объяснить эту разницу? Быстрее ли работает логистическая регрессия по сравнению с градиентным бустингом?</font>"
   ]
  },
  {
   "cell_type": "code",
   "execution_count": 70,
   "metadata": {
    "collapsed": false,
    "jupyter": {
     "outputs_hidden": false
    }
   },
   "outputs": [
    {
     "name": "stdout",
     "output_type": "stream",
     "text": [
      "--- initial C calculation\n",
      "{'C': [1e-11, 0.0001, 0.001, 0.01, 0.1, 1, 10, 100, 1000, 100000000]}\n",
      "best param =  {'C': 0.01} best score =  0.716379353998\n",
      "mean: 0.50643, std: 0.00166, params: {'C': 1e-11}\n",
      "mean: 0.71128, std: 0.00346, params: {'C': 0.0001}\n",
      "mean: 0.71622, std: 0.00368, params: {'C': 0.001}\n",
      "mean: 0.71638, std: 0.00375, params: {'C': 0.01}\n",
      "mean: 0.71635, std: 0.00377, params: {'C': 0.1}\n",
      "mean: 0.71634, std: 0.00377, params: {'C': 1}\n",
      "mean: 0.71634, std: 0.00377, params: {'C': 10}\n",
      "mean: 0.71634, std: 0.00377, params: {'C': 100}\n",
      "mean: 0.71634, std: 0.00377, params: {'C': 1000}\n",
      "mean: 0.71634, std: 0.00377, params: {'C': 100000000}\n",
      "--- fine C tuning\n",
      "{'C': array([ 0.005,  0.006,  0.007,  0.008,  0.009,  0.01 ,  0.011,  0.012,\n",
      "        0.013,  0.014,  0.015])}\n",
      "best param =  {'C': 0.0050000000000000001} best score =  0.716391892879\n",
      "mean: 0.71639, std: 0.00373, params: {'C': 0.0050000000000000001}\n",
      "mean: 0.71639, std: 0.00374, params: {'C': 0.0060000000000000001}\n",
      "mean: 0.71638, std: 0.00374, params: {'C': 0.0070000000000000001}\n",
      "mean: 0.71638, std: 0.00375, params: {'C': 0.0080000000000000002}\n",
      "mean: 0.71638, std: 0.00375, params: {'C': 0.0090000000000000011}\n",
      "mean: 0.71638, std: 0.00375, params: {'C': 0.01}\n",
      "mean: 0.71638, std: 0.00375, params: {'C': 0.010999999999999999}\n",
      "mean: 0.71637, std: 0.00375, params: {'C': 0.012}\n",
      "mean: 0.71637, std: 0.00375, params: {'C': 0.013000000000000001}\n",
      "mean: 0.71637, std: 0.00375, params: {'C': 0.014}\n",
      "mean: 0.71637, std: 0.00375, params: {'C': 0.014999999999999999}\n",
      "Average time for single regression fit: 0:00:12.726467\n"
     ]
    }
   ],
   "source": [
    "calculate_logreg(X_std_scal)"
   ]
  },
  {
   "cell_type": "markdown",
   "metadata": {},
   "source": [
    "<font color='blue'>\n",
    "2. Среди признаков в выборке есть категориальные, которые мы использовали как числовые, что вряд ли является хорошей идеей. Категориальных признаков в этой задаче одиннадцать: lobby_type и r1_hero, r2_hero, ..., r5_hero, d1_hero, d2_hero, ..., d5_hero. Уберите их из выборки, и проведите кросс-валидацию для логистической регрессии на новой выборке с подбором лучшего параметра регуляризации. Изменилось ли качество? Чем вы можете это объяснить?\n",
    "</font>"
   ]
  },
  {
   "cell_type": "code",
   "execution_count": 12,
   "metadata": {
    "collapsed": true,
    "jupyter": {
     "outputs_hidden": true
    }
   },
   "outputs": [],
   "source": [
    "heros = [\n",
    "    'r1_hero',\n",
    "    'r2_hero',\n",
    "    'r3_hero',\n",
    "    'r4_hero',\n",
    "    'r5_hero',\n",
    "    'd1_hero',\n",
    "    'd2_hero',\n",
    "    'd3_hero',\n",
    "    'd4_hero',\n",
    "    'd5_hero',\n",
    "]\n",
    "X_categor_removed= X.drop( heros+ ['lobby_type'], axis=1)\n",
    "X_categor_removed_std_scal = StandardScaler().fit_transform(X_categor_removed)"
   ]
  },
  {
   "cell_type": "code",
   "execution_count": 72,
   "metadata": {
    "collapsed": false,
    "jupyter": {
     "outputs_hidden": false
    }
   },
   "outputs": [
    {
     "name": "stdout",
     "output_type": "stream",
     "text": [
      "--- initial C calculation\n",
      "{'C': [1e-11, 0.0001, 0.001, 0.01, 0.1, 1, 10, 100, 1000, 100000000]}\n",
      "best param =  {'C': 0.01} best score =  0.7164103053\n",
      "mean: 0.50844, std: 0.00165, params: {'C': 1e-11}\n",
      "mean: 0.71127, std: 0.00352, params: {'C': 0.0001}\n",
      "mean: 0.71626, std: 0.00373, params: {'C': 0.001}\n",
      "mean: 0.71641, std: 0.00380, params: {'C': 0.01}\n",
      "mean: 0.71638, std: 0.00381, params: {'C': 0.1}\n",
      "mean: 0.71638, std: 0.00382, params: {'C': 1}\n",
      "mean: 0.71638, std: 0.00382, params: {'C': 10}\n",
      "mean: 0.71638, std: 0.00382, params: {'C': 100}\n",
      "mean: 0.71638, std: 0.00382, params: {'C': 1000}\n",
      "mean: 0.71638, std: 0.00382, params: {'C': 100000000}\n",
      "--- fine C tuning\n",
      "{'C': array([ 0.005,  0.006,  0.007,  0.008,  0.009,  0.01 ,  0.011,  0.012,\n",
      "        0.013,  0.014,  0.015])}\n",
      "best param =  {'C': 0.0050000000000000001} best score =  0.716429986399\n",
      "mean: 0.71643, std: 0.00378, params: {'C': 0.0050000000000000001}\n",
      "mean: 0.71643, std: 0.00379, params: {'C': 0.0060000000000000001}\n",
      "mean: 0.71642, std: 0.00379, params: {'C': 0.0070000000000000001}\n",
      "mean: 0.71642, std: 0.00379, params: {'C': 0.0080000000000000002}\n",
      "mean: 0.71641, std: 0.00380, params: {'C': 0.0090000000000000011}\n",
      "mean: 0.71641, std: 0.00380, params: {'C': 0.01}\n",
      "mean: 0.71641, std: 0.00380, params: {'C': 0.010999999999999999}\n",
      "mean: 0.71641, std: 0.00380, params: {'C': 0.012}\n",
      "mean: 0.71640, std: 0.00380, params: {'C': 0.013000000000000001}\n",
      "mean: 0.71640, std: 0.00380, params: {'C': 0.014}\n",
      "mean: 0.71640, std: 0.00380, params: {'C': 0.014999999999999999}\n",
      "Average time for single regression fit: 0:00:10.360281\n"
     ]
    }
   ],
   "source": [
    "calculate_logreg(X_categor_removed_std_scal)"
   ]
  },
  {
   "cell_type": "markdown",
   "metadata": {},
   "source": [
    "<font color='blue'>\n",
    "3. На предыдущем шаге мы исключили из выборки признаки rM_hero и dM_hero, которые показывают, какие именно герои играли за каждую команду. Это важные признаки — герои имеют разные характеристики, и некоторые из них выигрывают чаще, чем другие. Выясните из данных, сколько различных идентификаторов героев существует в данной игре (вам может пригодиться фукнция unique или value_counts).\n",
    "</font>"
   ]
  },
  {
   "cell_type": "code",
   "execution_count": 13,
   "metadata": {
    "collapsed": false,
    "jupyter": {
     "outputs_hidden": false
    }
   },
   "outputs": [
    {
     "name": "stdout",
     "output_type": "stream",
     "text": [
      "[  1   2   3   4   5   6   7   8   9  10  11  12  13  14  15  16  17  18\n",
      "  19  20  21  22  23  25  26  27  28  29  30  31  32  33  34  35  36  37\n",
      "  38  39  40  41  42  43  44  45  46  47  48  49  50  51  52  53  54  55\n",
      "  56  57  58  59  60  61  62  63  64  65  66  67  68  69  70  71  72  73\n",
      "  74  75  76  77  78  79  80  81  82  83  84  85  86  87  88  89  90  91\n",
      "  92  93  94  95  96  97  98  99 100 101 102 103 104 105 106 109 110 112]\n",
      "unique_heroes.size= 108\n"
     ]
    }
   ],
   "source": [
    "unique_heroes = np.unique(X[heros])\n",
    "print unique_heroes\n",
    "print 'unique_heroes.size=', unique_heroes.size"
   ]
  },
  {
   "cell_type": "code",
   "execution_count": null,
   "metadata": {
    "collapsed": true,
    "jupyter": {
     "outputs_hidden": true
    }
   },
   "outputs": [],
   "source": []
  },
  {
   "cell_type": "markdown",
   "metadata": {},
   "source": [
    "<font color='blue'>\n",
    "4. Воспользуемся подходом \"мешок слов\" для кодирования информации о героях. Пусть всего в игре имеет N различных героев. Сформируем N признаков, при этом i-й будет равен нулю, если i-й герой не участвовал в матче; единице, если i-й герой играл за команду Radiant; минус единице, если i-й герой играл за команду Dire. Ниже вы можете найти код, который выполняет данной преобразование. Добавьте полученные признаки к числовым, которые вы использовали во втором пункте данного этапа.\n",
    "</font>"
   ]
  },
  {
   "cell_type": "code",
   "execution_count": 24,
   "metadata": {
    "collapsed": false,
    "jupyter": {
     "outputs_hidden": false
    }
   },
   "outputs": [],
   "source": [
    "X_pick = np.zeros((X.shape[0], max(unique_heroes)))\n",
    "\n",
    "for i, match_id in enumerate(X.index):\n",
    "    for p in xrange(5):\n",
    "        X_pick[i, X.ix[match_id, 'r%d_hero' % (p+1)]-1] = 1\n",
    "        X_pick[i, X.ix[match_id, 'd%d_hero' % (p+1)]-1] = -1\n"
   ]
  },
  {
   "cell_type": "code",
   "execution_count": 30,
   "metadata": {
    "collapsed": false,
    "jupyter": {
     "outputs_hidden": false
    }
   },
   "outputs": [
    {
     "name": "stdout",
     "output_type": "stream",
     "text": [
      "(97230, 112)\n",
      "(97230, 91)\n",
      "(97230, 203)\n"
     ]
    }
   ],
   "source": [
    "print X_pick.shape\n",
    "print X_categor_removed.shape\n",
    "\n",
    "from scipy.sparse import hstack\n",
    "X_categor_removed_bag_words = hstack([X_categor_removed, X_pick]).toarray()\n",
    "print X_categor_removed_bag_words.shape\n",
    "\n"
   ]
  },
  {
   "cell_type": "markdown",
   "metadata": {},
   "source": [
    "<font color='blue'>\n",
    "5. Проведите кросс-валидацию для логистической регрессии на новой выборке с подбором лучшего параметра регуляризации. Какое получилось качество? Улучшилось ли оно? Чем вы можете это объяснить?\n",
    "</font>"
   ]
  },
  {
   "cell_type": "code",
   "execution_count": 36,
   "metadata": {
    "collapsed": false,
    "jupyter": {
     "outputs_hidden": false
    }
   },
   "outputs": [
    {
     "name": "stdout",
     "output_type": "stream",
     "text": [
      "--- initial C calculation\n",
      "{'C': [1e-11, 0.0001, 0.001, 0.01, 0.1, 1, 10, 100, 1000, 100000000]}\n",
      "best param =  {'C': 0.01} best score =  0.751841237651\n",
      "mean: 0.50703, std: 0.00039, params: {'C': 1e-11}\n",
      "mean: 0.74273, std: 0.00335, params: {'C': 0.0001}\n",
      "mean: 0.75154, std: 0.00347, params: {'C': 0.001}\n",
      "mean: 0.75184, std: 0.00347, params: {'C': 0.01}\n",
      "mean: 0.75179, std: 0.00348, params: {'C': 0.1}\n",
      "mean: 0.75179, std: 0.00348, params: {'C': 1}\n",
      "mean: 0.75178, std: 0.00348, params: {'C': 10}\n",
      "mean: 0.75178, std: 0.00348, params: {'C': 100}\n",
      "mean: 0.75178, std: 0.00348, params: {'C': 1000}\n",
      "mean: 0.75178, std: 0.00348, params: {'C': 100000000}\n",
      "--- fine C tuning\n",
      "{'C': array([ 0.005,  0.006,  0.007,  0.008,  0.009,  0.01 ,  0.011,  0.012,\n",
      "        0.013,  0.014,  0.015])}\n",
      "best param =  {'C': 0.0050000000000000001} best score =  0.751859092208\n",
      "mean: 0.75186, std: 0.00347, params: {'C': 0.0050000000000000001}\n",
      "mean: 0.75186, std: 0.00347, params: {'C': 0.0060000000000000001}\n",
      "mean: 0.75185, std: 0.00347, params: {'C': 0.0070000000000000001}\n",
      "mean: 0.75185, std: 0.00347, params: {'C': 0.0080000000000000002}\n",
      "mean: 0.75184, std: 0.00347, params: {'C': 0.0090000000000000011}\n",
      "mean: 0.75184, std: 0.00347, params: {'C': 0.01}\n",
      "mean: 0.75184, std: 0.00347, params: {'C': 0.010999999999999999}\n",
      "mean: 0.75183, std: 0.00347, params: {'C': 0.012}\n",
      "mean: 0.75183, std: 0.00347, params: {'C': 0.013000000000000001}\n",
      "mean: 0.75183, std: 0.00347, params: {'C': 0.014}\n",
      "mean: 0.75183, std: 0.00347, params: {'C': 0.014999999999999999}\n",
      "Average time for single regression fit: 0:00:20.538515\n"
     ]
    }
   ],
   "source": [
    "X_categor_removed_bag_words_std_scal = StandardScaler().fit_transform(X_categor_removed_bag_words)\n",
    "calculate_logreg(X_categor_removed_bag_words_std_scal)"
   ]
  },
  {
   "cell_type": "code",
   "execution_count": null,
   "metadata": {
    "collapsed": true,
    "jupyter": {
     "outputs_hidden": true
    }
   },
   "outputs": [],
   "source": []
  },
  {
   "cell_type": "code",
   "execution_count": null,
   "metadata": {
    "collapsed": true,
    "jupyter": {
     "outputs_hidden": true
    }
   },
   "outputs": [],
   "source": []
  },
  {
   "cell_type": "markdown",
   "metadata": {},
   "source": [
    "<font color='blue'>\n",
    "6. Постройте предсказания вероятностей победы команды Radiant для тестовой выборки с помощью лучшей из изученных моделей (лучшей с точки зрения AUC-ROC на кросс-валидации). Убедитесь, что предсказанные вероятности адекватные — находятся на отрезке [0, 1], не совпадают между собой (т.е. что модель не получилась константной).\n",
    "</font>"
   ]
  },
  {
   "cell_type": "code",
   "execution_count": null,
   "metadata": {
    "collapsed": false,
    "jupyter": {
     "outputs_hidden": false
    }
   },
   "outputs": [
    {
     "name": "stdout",
     "output_type": "stream",
     "text": [
      "<class 'pandas.core.frame.DataFrame'>\n",
      "Int64Index: 17177 entries, 6 to 114398\n",
      "Columns: 102 entries, start_time to dire_first_ward_time\n",
      "dtypes: float64(12), int64(90)\n",
      "memory usage: 13.5 MB\n",
      "None\n",
      "[  1   2   3   4   5   6   7   8   9  10  11  12  13  14  15  16  17  18\n",
      "  19  20  21  22  23  25  26  27  28  29  30  31  32  33  34  35  36  37\n",
      "  38  39  40  41  42  43  44  45  46  47  48  49  50  51  52  53  54  55\n",
      "  56  57  58  59  60  61  62  63  64  65  66  67  68  69  70  71  72  73\n",
      "  74  75  76  77  78  79  80  81  82  83  84  85  86  87  88  89  90  91\n",
      "  92  93  94  95  96  97  98  99 100 101 102 103 104 105 106 109 110 112]\n",
      "test_unique_heroes.size= 108\n"
     ]
    }
   ],
   "source": [
    "features_test = pandas.read_csv('../dota_kaggle_features/features_test.csv', index_col='match_id')\n",
    "print features_test.info()\n",
    "X_test = features_test.fillna(0)\n",
    "\n",
    "X_test_categor_removed= X_test.drop( heros+ ['lobby_type'], axis=1)\n",
    "\n",
    "test_unique_heroes = np.unique(X_test[heros])\n",
    "print test_unique_heroes\n",
    "print 'test_unique_heroes.size=', test_unique_heroes.size\n",
    "\n",
    "\n",
    "# X_test_categor_removed_std_scal = StandardScaler().fit_transform(X_test_categor_removed)\n"
   ]
  },
  {
   "cell_type": "code",
   "execution_count": 40,
   "metadata": {
    "collapsed": true,
    "jupyter": {
     "outputs_hidden": true
    }
   },
   "outputs": [],
   "source": [
    "X_pick = np.zeros((X_test.shape[0], max(test_unique_heroes)))\n",
    "\n",
    "for i, match_id in enumerate(X_test.index):\n",
    "    for p in xrange(5):\n",
    "        X_pick[i, X_test.ix[match_id, 'r%d_hero' % (p+1)]-1] = 1\n",
    "        X_pick[i, X_test.ix[match_id, 'd%d_hero' % (p+1)]-1] = -1"
   ]
  },
  {
   "cell_type": "code",
   "execution_count": 46,
   "metadata": {
    "collapsed": false,
    "jupyter": {
     "outputs_hidden": false
    }
   },
   "outputs": [
    {
     "name": "stdout",
     "output_type": "stream",
     "text": [
      "(17177, 112)\n",
      "(17177, 91)\n",
      "(17177, 203)\n"
     ]
    }
   ],
   "source": [
    "print X_pick.shape\n",
    "print X_test_categor_removed.shape\n",
    "\n",
    "from scipy.sparse import hstack\n",
    "X_test_categor_removed_bag_words = hstack([X_test_categor_removed, X_pick]).toarray()\n",
    "print X_test_categor_removed_bag_words.shape\n",
    "X_test_categor_removed_bag_words_std_scal = StandardScaler().fit_transform(X_test_categor_removed_bag_words)"
   ]
  },
  {
   "cell_type": "code",
   "execution_count": 47,
   "metadata": {
    "collapsed": false,
    "jupyter": {
     "outputs_hidden": false
    }
   },
   "outputs": [
    {
     "data": {
      "text/plain": [
       "LogisticRegression(C=0.005, class_weight=None, dual=False, fit_intercept=True,\n",
       "          intercept_scaling=1, max_iter=100, multi_class='ovr', n_jobs=1,\n",
       "          penalty='l2', random_state=555, solver='liblinear', tol=0.0001,\n",
       "          verbose=0, warm_start=False)"
      ]
     },
     "execution_count": 47,
     "metadata": {},
     "output_type": "execute_result"
    }
   ],
   "source": [
    "clf = LogisticRegression(penalty='l2', random_state=555, C=0.005)\n",
    "clf.fit(X_categor_removed_bag_words_std_scal, y)"
   ]
  },
  {
   "cell_type": "code",
   "execution_count": 93,
   "metadata": {
    "collapsed": false,
    "jupyter": {
     "outputs_hidden": false
    }
   },
   "outputs": [
    {
     "name": "stdout",
     "output_type": "stream",
     "text": [
      "num_good_predictions= 66589 num_bad_predictions= 30641\n",
      "ratio= 68.486063972\n"
     ]
    }
   ],
   "source": [
    "# smoke check\n",
    "rez=clf.predict_proba(X_categor_removed_bag_words_std_scal)[:, 1]\n",
    "\n",
    "smoke_check = {\n",
    "    'match_id': X.index, \n",
    "    'radiant_win_prob': rez,\n",
    "    'radiant_win_actual': y[X.index]\n",
    "}\n",
    "\n",
    "smoke_check_dframe = pandas.DataFrame.from_dict(smoke_check)\n",
    "\n",
    "smoke_check_dframe.set_index('match_id')\n",
    "\n",
    "num_good_predictions=0\n",
    "num_bad_predictions=0\n",
    "for index, row in smoke_check_dframe.iterrows():\n",
    "    if (row.radiant_win_prob >= 0.5 and row.radiant_win_actual == 1 or \n",
    "       row.radiant_win_prob < 0.5 and row.radiant_win_actual == 0):\n",
    "        num_good_predictions=num_good_predictions+1\n",
    "    else:\n",
    "        num_bad_predictions=num_bad_predictions+1\n",
    "print 'num_good_predictions=', num_good_predictions, 'num_bad_predictions=', num_bad_predictions\n",
    "print 'ratio=', 100.0*num_good_predictions/(num_good_predictions+num_bad_predictions)\n"
   ]
  },
  {
   "cell_type": "code",
   "execution_count": 100,
   "metadata": {
    "collapsed": false,
    "jupyter": {
     "outputs_hidden": false
    }
   },
   "outputs": [
    {
     "name": "stdout",
     "output_type": "stream",
     "text": [
      "Минимум предсказанных вероятностей = 0.00877088686319\n",
      "Максимум предсказанных вероятностей = 0.99616953139\n"
     ]
    }
   ],
   "source": [
    "rez=clf.predict_proba(X_test_categor_removed_bag_words_std_scal)[:, 1]\n",
    "\n",
    "print \"Минимум предсказанных вероятностей =\",min(rez)\n",
    "print \"Максимум предсказанных вероятностей =\", max(rez)\n",
    "\n"
   ]
  },
  {
   "cell_type": "code",
   "execution_count": null,
   "metadata": {
    "collapsed": true,
    "jupyter": {
     "outputs_hidden": true
    }
   },
   "outputs": [],
   "source": [
    "test_check = {\n",
    "    'match_id': X_test.index, \n",
    "    'radiant_win_prob': rez\n",
    "}\n",
    "\n",
    "test_check_dframe = pandas.DataFrame.from_dict(test_check)\n",
    "test_check_dframe.set_index('match_id')\n",
    "\n",
    "test_check_dframe.to_csv('test_predict.csv', index=False, columns=['match_id', 'radiant_win_prob'])"
   ]
  },
  {
   "cell_type": "code",
   "execution_count": null,
   "metadata": {
    "collapsed": true,
    "jupyter": {
     "outputs_hidden": true
    }
   },
   "outputs": [],
   "source": []
  }
 ],
 "metadata": {
  "kernelspec": {
   "display_name": "Python 3 (ipykernel)",
   "language": "python",
   "name": "python3"
  },
  "language_info": {
   "codemirror_mode": {
    "name": "ipython",
    "version": 3
   },
   "file_extension": ".py",
   "mimetype": "text/x-python",
   "name": "python",
   "nbconvert_exporter": "python",
   "pygments_lexer": "ipython3",
   "version": "3.12.4"
  }
 },
 "nbformat": 4,
 "nbformat_minor": 4
}
