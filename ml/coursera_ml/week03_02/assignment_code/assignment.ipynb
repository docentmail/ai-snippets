{
 "cells": [
  {
   "cell_type": "markdown",
   "metadata": {},
   "source": [
    "В этом задании мы предлагаем вам самостоятельно реализовать градиентный спуск."
   ]
  },
  {
   "cell_type": "code",
   "execution_count": 2,
   "metadata": {
    "collapsed": true
   },
   "outputs": [],
   "source": [
    "import numpy as np\n",
    "import pandas as pd\n",
    "import sys\n",
    "from sklearn import svm, grid_search, datasets\n",
    "from sklearn.cross_validation import KFold"
   ]
  },
  {
   "cell_type": "markdown",
   "metadata": {},
   "source": [
    "Загрузите данные из файла data-logistic.csv. Это двумерная выборка, целевая переменная на которой принимает значения -1 или 1."
   ]
  },
  {
   "cell_type": "code",
   "execution_count": null,
   "metadata": {
    "collapsed": false
   },
   "outputs": [
    {
     "name": "stdout",
     "output_type": "stream",
     "text": [
      "<bound method DataFrame.info of              B          C\n",
      "0     1.994596   2.468025\n",
      "1    -1.247395   0.749425\n",
      "2     2.309374   1.899836\n",
      "3     0.849143   2.407750\n",
      "4     1.454271  -0.665416\n",
      "5     2.254227   2.263786\n",
      "6    -0.067580   1.469141\n",
      "7    -0.861961  -0.824856\n",
      "8     0.699179   2.032488\n",
      "9    -0.161480   0.495462\n",
      "10   -0.147102   0.419647\n",
      "11    0.080296  -1.156097\n",
      "12    1.720655  -1.080662\n",
      "13    1.573958   1.785434\n",
      "14    1.168445  -0.645619\n",
      "15   -0.066627  -1.059747\n",
      "16    1.163355   1.745887\n",
      "17    2.096970   1.129638\n",
      "18    3.035705   2.142838\n",
      "19    0.831852  -0.606777\n",
      "20  -12.977800  -4.573056\n",
      "21   -0.842603  -1.076282\n",
      "22   -0.473537  -0.734473\n",
      "23    1.540373   0.167921\n",
      "24    0.495341   0.066751\n",
      "25    2.091486   2.550005\n",
      "26    2.937055   3.260800\n",
      "27   -0.501667   0.318889\n",
      "28    0.830207   1.234621\n",
      "29   -0.390148  -0.436249\n",
      "..         ...        ...\n",
      "174   0.212184   2.701000\n",
      "175  -0.239311   1.362500\n",
      "176   1.828638   1.608036\n",
      "177   0.277534  -0.758549\n",
      "178   2.586595   2.593424\n",
      "179   2.022412   3.267933\n",
      "180  -0.208457   1.268443\n",
      "181   2.450550   1.440328\n",
      "182   0.725817  -1.269952\n",
      "183   1.049660   1.489354\n",
      "184   0.320265  -0.733109\n",
      "185   2.138777  -1.546664\n",
      "186  -0.963075   0.807909\n",
      "187  -0.405415   1.069747\n",
      "188  -0.539427  -0.935384\n",
      "189   4.465992   1.110073\n",
      "190   3.255261  -0.037275\n",
      "191  -0.371662   1.371344\n",
      "192  -0.726214  -1.208404\n",
      "193   2.167982  -0.247936\n",
      "194   2.146766   2.837469\n",
      "195   0.660296  -0.969696\n",
      "196   2.311044   2.115702\n",
      "197   3.010920   1.519837\n",
      "198  -1.033668  -0.147539\n",
      "199   4.245176   3.053931\n",
      "200   2.437935   1.357804\n",
      "201  -1.876638   1.533398\n",
      "202  -6.824446 -13.934211\n",
      "203   0.001805   0.865147\n",
      "\n",
      "[204 rows x 2 columns]>\n",
      "204\n"
     ]
    }
   ],
   "source": [
    "main_data = pd.read_csv('data-logistic.csv')\n",
    "main_data.columns=[\"A\",\"B\",\"C\"];\n",
    "X_data = main_data[['B','C']]\n",
    "Y_data = main_data['A']\n",
    "type(Y_data)\n",
    "print X_data.info\n",
    "print Y_data.size"
   ]
  },
  {
   "cell_type": "code",
   "execution_count": null,
   "metadata": {
    "collapsed": false
   },
   "outputs": [
    {
     "name": "stdout",
     "output_type": "stream",
     "text": [
      "<bound method DataFrame.info of              B          C\n",
      "0     1.994596   2.468025\n",
      "1    -1.247395   0.749425\n",
      "2     2.309374   1.899836\n",
      "3     0.849143   2.407750\n",
      "4     1.454271  -0.665416\n",
      "5     2.254227   2.263786\n",
      "6    -0.067580   1.469141\n",
      "7    -0.861961  -0.824856\n",
      "8     0.699179   2.032488\n",
      "9    -0.161480   0.495462\n",
      "10   -0.147102   0.419647\n",
      "11    0.080296  -1.156097\n",
      "12    1.720655  -1.080662\n",
      "13    1.573958   1.785434\n",
      "14    1.168445  -0.645619\n",
      "15   -0.066627  -1.059747\n",
      "16    1.163355   1.745887\n",
      "17    2.096970   1.129638\n",
      "18    3.035705   2.142838\n",
      "19    0.831852  -0.606777\n",
      "20  -12.977800  -4.573056\n",
      "21   -0.842603  -1.076282\n",
      "22   -0.473537  -0.734473\n",
      "23    1.540373   0.167921\n",
      "24    0.495341   0.066751\n",
      "25    2.091486   2.550005\n",
      "26    2.937055   3.260800\n",
      "27   -0.501667   0.318889\n",
      "28    0.830207   1.234621\n",
      "29   -0.390148  -0.436249\n",
      "..         ...        ...\n",
      "174   0.212184   2.701000\n",
      "175  -0.239311   1.362500\n",
      "176   1.828638   1.608036\n",
      "177   0.277534  -0.758549\n",
      "178   2.586595   2.593424\n",
      "179   2.022412   3.267933\n",
      "180  -0.208457   1.268443\n",
      "181   2.450550   1.440328\n",
      "182   0.725817  -1.269952\n",
      "183   1.049660   1.489354\n",
      "184   0.320265  -0.733109\n",
      "185   2.138777  -1.546664\n",
      "186  -0.963075   0.807909\n",
      "187  -0.405415   1.069747\n",
      "188  -0.539427  -0.935384\n",
      "189   4.465992   1.110073\n",
      "190   3.255261  -0.037275\n",
      "191  -0.371662   1.371344\n",
      "192  -0.726214  -1.208404\n",
      "193   2.167982  -0.247936\n",
      "194   2.146766   2.837469\n",
      "195   0.660296  -0.969696\n",
      "196   2.311044   2.115702\n",
      "197   3.010920   1.519837\n",
      "198  -1.033668  -0.147539\n",
      "199   4.245176   3.053931\n",
      "200   2.437935   1.357804\n",
      "201  -1.876638   1.533398\n",
      "202  -6.824446 -13.934211\n",
      "203   0.001805   0.865147\n",
      "\n",
      "[204 rows x 2 columns]>\n",
      "204\n"
     ]
    }
   ],
   "source": [
    "main_data2 = pd.read_csv('data-logistic_with_header.csv')\n",
    "X_data = main_data[['B','C']]\n",
    "Y_data = main_data['A']\n",
    "\n",
    "print X_data.info\n",
    "print Y_data.size\n",
    "\n"
   ]
  },
  {
   "cell_type": "markdown",
   "metadata": {},
   "source": [
    "В качестве метрики качества будем использовать AUC-ROC (Area Under ROC-Curve).\n",
    "В Scikit-Learn метрика AUC реализована функцией sklearn.metrics.roc_auc_score. В качестве первого аргумента ей передается вектор истинных ответов,\n",
    "в качестве второго — вектор с оценками принадлежности объектов к\n",
    "первому классу.\n",
    "\n",
    "http://datareview.info/article/sovremennyie-metodyi-analiza-tonalnosti-teksta/\n"
   ]
  },
  {
   "cell_type": "code",
   "execution_count": 123,
   "metadata": {
    "collapsed": false
   },
   "outputs": [
    {
     "name": "stdout",
     "output_type": "stream",
     "text": [
      "SGDClassifier(alpha=0.0001, average=False, class_weight=None, epsilon=0.1,\n",
      "       eta0=0.0, fit_intercept=True, l1_ratio=0.15,\n",
      "       learning_rate='optimal', loss='log', n_iter=5, n_jobs=1,\n",
      "       penalty='l2', power_t=0.5, random_state=242, shuffle=True,\n",
      "       verbose=0, warm_start=False)\n",
      "Test Accuracy: 0.82\n"
     ]
    }
   ],
   "source": [
    "#Use classification algorithm (i.e. Stochastic Logistic Regression) on training set, then assess model performance on test set\n",
    "from sklearn.linear_model import SGDClassifier\n",
    "\n",
    "lr = SGDClassifier(loss='log', penalty='l2',random_state=242)\n",
    "print lr\n",
    "lr.fit(X_data, Y_data)\n",
    "\n",
    "print 'Test Accuracy: %.2f'%lr.score(X_data, Y_data)"
   ]
  },
  {
   "cell_type": "code",
   "execution_count": 124,
   "metadata": {
    "collapsed": false
   },
   "outputs": [
    {
     "name": "stdout",
     "output_type": "stream",
     "text": [
      "0.910485810486\n"
     ]
    }
   ],
   "source": [
    "#Create ROC curve\n",
    "from sklearn.metrics import roc_auc_score, auc\n",
    "import matplotlib.pyplot as plt\n",
    "\n",
    "pred_probas = lr.predict_proba(X_data)[:,1]  # returns (205,)  of (205, 2)\n",
    "rez = roc_auc_score(Y_data, pred_probas)\n",
    "print rez\n",
    "# 0.910485810486 _with no headers\n",
    "# 0.910485810486 _with_headers"
   ]
  },
  {
   "cell_type": "code",
   "execution_count": null,
   "metadata": {
    "collapsed": false
   },
   "outputs": [
    {
     "name": "stdout",
     "output_type": "stream",
     "text": [
      "[ 0.02855875  0.02478014] 10.0 0.5\n"
     ]
    }
   ],
   "source": [
    "# http://pastebin.com/3Qepftnt\n",
    "import numpy as np\n",
    "import pandas as pd\n",
    "from sklearn.metrics import roc_auc_score\n",
    " \n",
    "data = pd.read_csv('data-logistic.csv', header=None)\n",
    "y = np.array(data.pop(0))\n",
    "X = np.array(data)\n",
    "#print X\n",
    " \n",
    "w = np.zeros(2)\n",
    "k = 0.1\n",
    "C = 10.0\n",
    "delta = 0.1\n",
    " \n",
    "while delta > 0.00001 :\n",
    "    s = [0, 0]\n",
    "    for i in xrange(len(y)) :\n",
    "        s = s + X[i]*y[i]*(1.0-1.0/(1.0+np.exp(-1.0*y[i]*np.sum(w*X[i]))))\n",
    "    w_prev = w\n",
    "    w = w + s*k/len(y) - k*C*w\n",
    "    delta = np.sqrt(np.sum((w-w_prev)**2))\n",
    " \n",
    "a = np.zeros_like(y)\n",
    "for i in xrange(len(y)) :\n",
    "    a[i] = 1.0/(1.0+np.exp(-1.0*np.sum(w*X[i])))\n",
    " \n",
    "print w, C, roc_auc_score(y, a)"
   ]
  },
  {
   "cell_type": "code",
   "execution_count": null,
   "metadata": {
    "collapsed": false
   },
   "outputs": [
    {
     "ename": "ImportError",
     "evalue": "No module named numarray",
     "output_type": "error",
     "traceback": [
      "\u001b[0;31m---------------------------------------------------------------------------\u001b[0m",
      "\u001b[0;31mImportError\u001b[0m                               Traceback (most recent call last)",
      "\u001b[0;32m<ipython-input-36-d8fdc125ab3a>\u001b[0m in \u001b[0;36m<module>\u001b[0;34m()\u001b[0m\n\u001b[1;32m      1\u001b[0m \u001b[0;32mfrom\u001b[0m \u001b[0mpandas\u001b[0m \u001b[0;32mimport\u001b[0m \u001b[0mread_csv\u001b[0m\u001b[0;34m\u001b[0m\u001b[0m\n\u001b[1;32m      2\u001b[0m \u001b[0;32mfrom\u001b[0m \u001b[0mmath\u001b[0m \u001b[0;32mimport\u001b[0m \u001b[0mexp\u001b[0m\u001b[0;34m\u001b[0m\u001b[0m\n\u001b[0;32m----> 3\u001b[0;31m \u001b[0;32mfrom\u001b[0m \u001b[0mnumpy\u001b[0m\u001b[0;34m.\u001b[0m\u001b[0mnumarray\u001b[0m \u001b[0;32mimport\u001b[0m \u001b[0mdot\u001b[0m\u001b[0;34m\u001b[0m\u001b[0m\n\u001b[0m\u001b[1;32m      4\u001b[0m \u001b[0;32mfrom\u001b[0m \u001b[0mmath\u001b[0m \u001b[0;32mimport\u001b[0m \u001b[0msqrt\u001b[0m\u001b[0;34m,\u001b[0m \u001b[0mpow\u001b[0m\u001b[0;34m\u001b[0m\u001b[0m\n\u001b[1;32m      5\u001b[0m \u001b[0;34m\u001b[0m\u001b[0m\n",
      "\u001b[0;31mImportError\u001b[0m: No module named numarray"
     ]
    }
   ],
   "source": [
    "from pandas import read_csv\n",
    "from math import exp\n",
    "from numpy.numarray import dot\n",
    "from math import sqrt, pow\n",
    " \n",
    "data = read_csv('data-logistic.csv', header=None)\n",
    " \n",
    "y = data[0]\n",
    "X = data.iloc[:, 1:]\n",
    "l = len(X)\n",
    "w = (0, 0)\n",
    "k = 0.1\n",
    "border = 1e-5\n",
    "C = 10\n",
    " \n",
    "print zip(X,y)\n",
    " \n",
    "#def fn(y, x, w, i)\n",
    " \n",
    "def update_weight(X, Y, w, i):\n",
    "        return w[i] + k/l*sum([(Y[j]*X[j][i]*(1-1/(1+exp((-Y[j])*dot(X[j], w))))-k*C*w[i]) for j in xrange(len(Y))])\n",
    " \n",
    "def distance(w1, w2):\n",
    "    return sqrt(pow(w2[0]-w1[0], 2) + pow(w2[1]-w1[1], 2))\n",
    " \n",
    "for j in xrange(10000):\n",
    "    new_w = (update_weight(X, y, w, 0), update_weight(X, y, w, 1))\n",
    "    dist = distance(w, new_w)\n",
    "    if dist < border:\n",
    "        break\n",
    "    w = new_w\n",
    " \n",
    "print w"
   ]
  },
  {
   "cell_type": "code",
   "execution_count": null,
   "metadata": {
    "collapsed": true
   },
   "outputs": [],
   "source": [
    "W1 = w1+k*1/L*np.sum([Y[i]*X1[i]*(1-1/1+math.exp(-Y[i]*(w1*X1[i]+w2*X2[i]))) for i in range(Y.size) ] )-k*C*w1\n",
    "W2= w2+k*1/L*np.sum([Y[i]*X2[i]*(1-1/1+math.exp(-Y[i]*(w1*X1[i]+w2*X2[i]))) for i in range(Y.size) ] )-k*C*w2"
   ]
  },
  {
   "cell_type": "code",
   "execution_count": null,
   "metadata": {
    "collapsed": false
   },
   "outputs": [
    {
     "name": "stderr",
     "output_type": "stream",
     "text": [
      "/Library/Frameworks/Python.framework/Versions/2.7/lib/python2.7/site-packages/ipykernel/__main__.py:9: FutureWarning: icol(i) is deprecated. Please use .iloc[:,i]\n",
      "/Library/Frameworks/Python.framework/Versions/2.7/lib/python2.7/site-packages/ipykernel/__main__.py:10: FutureWarning: icol(i) is deprecated. Please use .iloc[:,i]\n"
     ]
    },
    {
     "name": "stdout",
     "output_type": "stream",
     "text": [
      "Max iterations reached: 10000.0 !!! [ 0.23734769  0.23390218]\n",
      "[LibLinear][LibLinear]===== [ 0.23734769  0.23390218] 0.693362193362 0.889321789322\n"
     ]
    }
   ],
   "source": [
    "# http://pastebin.com/kMEYimti\n",
    "import pandas\n",
    "def lab_7():\n",
    "    from sklearn.linear_model import LogisticRegression\n",
    " \n",
    "    from sklearn.metrics import roc_auc_score\n",
    " \n",
    "    data = pandas.read_csv('data-logistic.csv')\n",
    "    y = np.array(data.icol(0))\n",
    "    X = np.array(data.icol([1,2]))\n",
    " \n",
    "    def sygmoid(x,deriv=False):\n",
    "        if(deriv==True):\n",
    "            return x*(1-x)\n",
    "        return 1/(1+np.exp(-x))\n",
    " \n",
    "    def gradientDescent(X, y, theta, alpha, numIterations, step):\n",
    "        m, n = np.shape(X)\n",
    "        pos = 1\n",
    "        stop = numIterations\n",
    "        last_theta = theta\n",
    " \n",
    "        while pos < stop:\n",
    "            predicted_values = np.dot(X, theta)\n",
    "            theta = theta + alpha/m * np.dot((y - predicted_values), X)\n",
    "            euc_dist = np.linalg.norm(theta-last_theta)\n",
    " \n",
    "            if abs(euc_dist) > alpha:\n",
    "                print 'Converged, iterations: %s !!!' % pos\n",
    "                return last_theta\n",
    "            else:\n",
    "                last_theta = theta\n",
    "                pos += step\n",
    " \n",
    "        print 'Max iterations reached: %s !!!' % pos, theta\n",
    " \n",
    "        return theta\n",
    " \n",
    "    theta = np.array((0,0))\n",
    "    alpha = 1e-5\n",
    "    iterations = 10000\n",
    "    step = 0.1\n",
    " \n",
    "    gd = np.array(gradientDescent(sygmoid(X), sygmoid(y), theta, alpha, iterations, step))\n",
    " \n",
    "    weights = {1 : gd[0], -1 : gd[1]}\n",
    " \n",
    "    clf1 = LogisticRegression(penalty='l1', verbose=True, class_weight=weights)\n",
    "    clf2 = LogisticRegression(penalty='l2', verbose=True, C=10, class_weight=weights)\n",
    " \n",
    "    reg1 = clf1.fit(X, y)\n",
    "    reg2 = clf2.fit(X, y)\n",
    " \n",
    "    pred1 = reg1.predict(sygmoid(X))\n",
    "    pred2 = reg2.predict(sygmoid(X))\n",
    "    # pred1 = reg1.predict(X)   # my \n",
    "    # pred2 = reg2.predict(X)   # My\n",
    "\n",
    "\n",
    "    #    print pred1, sygmoid(pred1)\n",
    "\n",
    "    score1 = roc_auc_score(y, sygmoid(pred1))\n",
    "    score2 = roc_auc_score(y, sygmoid(pred2))\n",
    " \n",
    " \n",
    "    print \"=====\",gd, score1, score2\n",
    "lab_7()"
   ]
  },
  {
   "cell_type": "markdown",
   "metadata": {},
   "source": [
    "# Это фрагмент использованный для решения - все остальные лабуда"
   ]
  },
  {
   "cell_type": "code",
   "execution_count": null,
   "metadata": {
    "collapsed": false
   },
   "outputs": [
    {
     "name": "stdout",
     "output_type": "stream",
     "text": [
      "8\n",
      "0.0285402045405\n",
      "0.024965725476\n",
      "0.936095238095\n"
     ]
    }
   ],
   "source": [
    "# http://pastebin.com/Cq5ywjri\n",
    "from math import sqrt\n",
    "import math\n",
    "import pandas\n",
    "from sklearn.metrics import roc_auc_score\n",
    "from sklearn.svm import SVC\n",
    " \n",
    " \n",
    "def sigmoid(x1, x2, _w1, _w2):\n",
    "    return 1 / (1 + math.exp(-_w1 * x1 - _w2 * x2))\n",
    " \n",
    " \n",
    "def sigmoid_from_series(_X, _w1, _w2):\n",
    "    list = []\n",
    "    X1_list = _X[1].tolist()\n",
    "    X2_list = _X[2].tolist()\n",
    "    length = len(X1_list)\n",
    "    for i in range(0, length):\n",
    "        list.append(sigmoid(X1_list[i], X2_list[i], _w1, _w2))\n",
    "    return list\n",
    " \n",
    " \n",
    "def find_w(param, _w1, _w2, _l, _X, _Y, _C):\n",
    "    k = 0.1\n",
    "    if param == 'First':\n",
    "        w_actual = _w1\n",
    "        X_list = _X[1].tolist()\n",
    "    else:\n",
    "        if param == 'Second':\n",
    "            w_actual = _w2\n",
    "            X_list = _X[2].tolist()\n",
    "        else:\n",
    "            raise ValueError\n",
    "    Y_list = _Y.tolist()\n",
    "    X1_list = _X[1].tolist()\n",
    "    X2_list = _X[2].tolist()\n",
    "    sum = 0\n",
    "    for i in range(0, _l - 1):\n",
    "        sum += Y_list[i] * X_list[i] * (1 - 1 / (1 + math.exp(-Y_list[i] * (_w1 * X1_list[i] + _w2 * X2_list[i]))))\n",
    " \n",
    "    return w_actual + k * sum / l - k * C * w_actual\n",
    " \n",
    " \n",
    "if __name__ == '__main__':\n",
    "    data = pandas.read_csv('data-logistic.csv', header=None)\n",
    "    Y = data[0]\n",
    "    X = data[[1, 2]]\n",
    "    l = len(Y)\n",
    "    # print(l)\n",
    "    e = 100\n",
    "    num_it = 0\n",
    "    w1 = 0\n",
    "    w2 = 0\n",
    "    C = 10  # first starting with C=0, res=0.928, second starting C=10, res=0.936\n",
    "    while e > 0.00001 and num_it < 10000:\n",
    "        num_it += 1\n",
    "        # Save previous w1 , w2\n",
    "        w1_prev = w1\n",
    "        w2_prev = w2\n",
    " \n",
    "        # find w1 , w2\n",
    "        w1 = find_w('First', w1_prev, w2_prev, l, X, Y, C)\n",
    "        w2 = find_w('Second', w1_prev, w2_prev, l, X, Y, C)\n",
    "        e = sqrt((w1 - w1_prev) ** 2 + (w2 - w2_prev) ** 2)\n",
    "    print(num_it)\n",
    "    print(w1)\n",
    "    print(w2)\n",
    "    # С=0 242  0.284232310254   0.0973847779184\n",
    "    # C=10 8   0.0285402045405 0.024965725476\n",
    "    res = roc_auc_score(Y.tolist(), sigmoid_from_series(X, w1, w2))\n",
    "    print(res)\n"
   ]
  },
  {
   "cell_type": "code",
   "execution_count": null,
   "metadata": {
    "collapsed": true
   },
   "outputs": [],
   "source": []
  }
 ],
 "metadata": {
  "kernelspec": {
   "display_name": "Python 2",
   "language": "python",
   "name": "python2"
  },
  "language_info": {
   "codemirror_mode": {
    "name": "ipython",
    "version": 2
   },
   "file_extension": ".py",
   "mimetype": "text/x-python",
   "name": "python",
   "nbconvert_exporter": "python",
   "pygments_lexer": "ipython2",
   "version": "2.7.11"
  }
 },
 "nbformat": 4,
 "nbformat_minor": 0
}
