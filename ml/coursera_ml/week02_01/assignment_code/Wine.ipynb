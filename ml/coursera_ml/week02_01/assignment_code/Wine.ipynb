{
 "cells": [
  {
   "cell_type": "markdown",
   "metadata": {},
   "source": [
    "# main imports and load file"
   ]
  },
  {
   "cell_type": "code",
   "execution_count": 1,
   "metadata": {},
   "outputs": [
    {
     "name": "stdout",
     "output_type": "stream",
     "text": [
      "Requirement already satisfied: numpy in /Users/gene/My/2024_08_AI/ai-snippets/ml/CourseraML_01/lib/python3.12/site-packages (2.1.3)\n",
      "\n",
      "\u001b[1m[\u001b[0m\u001b[34;49mnotice\u001b[0m\u001b[1;39;49m]\u001b[0m\u001b[39;49m A new release of pip is available: \u001b[0m\u001b[31;49m24.0\u001b[0m\u001b[39;49m -> \u001b[0m\u001b[32;49m24.3.1\u001b[0m\n",
      "\u001b[1m[\u001b[0m\u001b[34;49mnotice\u001b[0m\u001b[1;39;49m]\u001b[0m\u001b[39;49m To update, run: \u001b[0m\u001b[32;49mpip install --upgrade pip\u001b[0m\n",
      "Requirement already satisfied: pandas in /Users/gene/My/2024_08_AI/ai-snippets/ml/CourseraML_01/lib/python3.12/site-packages (2.2.3)\n",
      "Requirement already satisfied: numpy>=1.26.0 in /Users/gene/My/2024_08_AI/ai-snippets/ml/CourseraML_01/lib/python3.12/site-packages (from pandas) (2.1.3)\n",
      "Requirement already satisfied: python-dateutil>=2.8.2 in /Users/gene/My/2024_08_AI/ai-snippets/ml/CourseraML_01/lib/python3.12/site-packages (from pandas) (2.9.0.post0)\n",
      "Requirement already satisfied: pytz>=2020.1 in /Users/gene/My/2024_08_AI/ai-snippets/ml/CourseraML_01/lib/python3.12/site-packages (from pandas) (2024.2)\n",
      "Requirement already satisfied: tzdata>=2022.7 in /Users/gene/My/2024_08_AI/ai-snippets/ml/CourseraML_01/lib/python3.12/site-packages (from pandas) (2024.2)\n",
      "Requirement already satisfied: six>=1.5 in /Users/gene/My/2024_08_AI/ai-snippets/ml/CourseraML_01/lib/python3.12/site-packages (from python-dateutil>=2.8.2->pandas) (1.16.0)\n",
      "\n",
      "\u001b[1m[\u001b[0m\u001b[34;49mnotice\u001b[0m\u001b[1;39;49m]\u001b[0m\u001b[39;49m A new release of pip is available: \u001b[0m\u001b[31;49m24.0\u001b[0m\u001b[39;49m -> \u001b[0m\u001b[32;49m24.3.1\u001b[0m\n",
      "\u001b[1m[\u001b[0m\u001b[34;49mnotice\u001b[0m\u001b[1;39;49m]\u001b[0m\u001b[39;49m To update, run: \u001b[0m\u001b[32;49mpip install --upgrade pip\u001b[0m\n",
      "Requirement already satisfied: scikit-learn in /Users/gene/My/2024_08_AI/ai-snippets/ml/CourseraML_01/lib/python3.12/site-packages (1.5.2)\n",
      "Requirement already satisfied: numpy>=1.19.5 in /Users/gene/My/2024_08_AI/ai-snippets/ml/CourseraML_01/lib/python3.12/site-packages (from scikit-learn) (2.1.3)\n",
      "Requirement already satisfied: scipy>=1.6.0 in /Users/gene/My/2024_08_AI/ai-snippets/ml/CourseraML_01/lib/python3.12/site-packages (from scikit-learn) (1.14.1)\n",
      "Requirement already satisfied: joblib>=1.2.0 in /Users/gene/My/2024_08_AI/ai-snippets/ml/CourseraML_01/lib/python3.12/site-packages (from scikit-learn) (1.4.2)\n",
      "Requirement already satisfied: threadpoolctl>=3.1.0 in /Users/gene/My/2024_08_AI/ai-snippets/ml/CourseraML_01/lib/python3.12/site-packages (from scikit-learn) (3.5.0)\n",
      "\n",
      "\u001b[1m[\u001b[0m\u001b[34;49mnotice\u001b[0m\u001b[1;39;49m]\u001b[0m\u001b[39;49m A new release of pip is available: \u001b[0m\u001b[31;49m24.0\u001b[0m\u001b[39;49m -> \u001b[0m\u001b[32;49m24.3.1\u001b[0m\n",
      "\u001b[1m[\u001b[0m\u001b[34;49mnotice\u001b[0m\u001b[1;39;49m]\u001b[0m\u001b[39;49m To update, run: \u001b[0m\u001b[32;49mpip install --upgrade pip\u001b[0m\n"
     ]
    }
   ],
   "source": [
    "!pip install numpy\n",
    "!pip install pandas\n",
    "!pip install scikit-learn #  The 'sklearn' PyPI package is deprecated, use 'scikit-learn' rather than 'sklearn' for pip commands.\n"
   ]
  },
  {
   "cell_type": "code",
   "execution_count": 2,
   "metadata": {},
   "outputs": [],
   "source": [
    "import numpy as np\n",
    "import sklearn.model_selection\n",
    "from sklearn import datasets\n",
    "from sklearn import svm\n",
    "import pandas as pd\n",
    "from sklearn.model_selection import KFold\n",
    "from sklearn.neighbors import KNeighborsClassifier"
   ]
  },
  {
   "cell_type": "code",
   "execution_count": null,
   "metadata": {
    "collapsed": true,
    "jupyter": {
     "outputs_hidden": true
    }
   },
   "outputs": [],
   "source": [
    "\n"
   ]
  },
  {
   "cell_type": "markdown",
   "metadata": {},
   "source": [
    "# Loading the file. Have to add header. Doesn't work for indexes"
   ]
  },
  {
   "cell_type": "code",
   "execution_count": 3,
   "metadata": {
    "collapsed": false,
    "jupyter": {
     "outputs_hidden": false
    }
   },
   "outputs": [
    {
     "name": "stdout",
     "output_type": "stream",
     "text": [
      "<class 'pandas.core.frame.DataFrame'>\n",
      "RangeIndex: 178 entries, 0 to 177\n",
      "Data columns (total 14 columns):\n",
      " #   Column  Non-Null Count  Dtype  \n",
      "---  ------  --------------  -----  \n",
      " 0   A       178 non-null    int64  \n",
      " 1   B       178 non-null    float64\n",
      " 2   C       178 non-null    float64\n",
      " 3   D       178 non-null    float64\n",
      " 4   E       178 non-null    float64\n",
      " 5   F       178 non-null    int64  \n",
      " 6   G       178 non-null    float64\n",
      " 7   H       178 non-null    float64\n",
      " 8   I       178 non-null    float64\n",
      " 9   J       178 non-null    float64\n",
      " 10  K       178 non-null    float64\n",
      " 11  L       178 non-null    float64\n",
      " 12  M       178 non-null    float64\n",
      " 13  N       178 non-null    int64  \n",
      "dtypes: float64(11), int64(3)\n",
      "memory usage: 19.6 KB\n",
      "None\n",
      "<class 'pandas.core.frame.DataFrame'>\n"
     ]
    }
   ],
   "source": [
    "\n",
    "wine_data = pd.read_csv('wine_with_header.csv')\n",
    "print(wine_data.info())\n",
    "print(type(wine_data))"
   ]
  },
  {
   "cell_type": "code",
   "execution_count": 4,
   "metadata": {
    "collapsed": false,
    "jupyter": {
     "outputs_hidden": false
    }
   },
   "outputs": [
    {
     "name": "stdout",
     "output_type": "stream",
     "text": [
      "Counter({1.0: 1, 13.2: 1, 1.78: 1, 2.14: 1, 11.2: 1, 100.0: 1, 2.65: 1, 2.76: 1, 0.26: 1, 1.28: 1, 4.38: 1, 1.05: 1, 3.4: 1, 1050.0: 1})\n"
     ]
    }
   ],
   "source": [
    "import collections\n",
    "#counter=collections.Counter(wine_data.ix[[1]])\n",
    "counter = collections.Counter(wine_data.iloc[1])  # Access the second row (index 1)\n",
    "\n",
    "print(counter)\n"
   ]
  },
  {
   "cell_type": "code",
   "execution_count": 5,
   "metadata": {
    "collapsed": false,
    "jupyter": {
     "outputs_hidden": false
    }
   },
   "outputs": [
    {
     "name": "stdout",
     "output_type": "stream",
     "text": [
      "<class 'pandas.core.frame.DataFrame'>\n",
      "RangeIndex: 178 entries, 0 to 177\n",
      "Data columns (total 13 columns):\n",
      " #   Column  Non-Null Count  Dtype  \n",
      "---  ------  --------------  -----  \n",
      " 0   B       178 non-null    float64\n",
      " 1   C       178 non-null    float64\n",
      " 2   D       178 non-null    float64\n",
      " 3   E       178 non-null    float64\n",
      " 4   F       178 non-null    int64  \n",
      " 5   G       178 non-null    float64\n",
      " 6   H       178 non-null    float64\n",
      " 7   I       178 non-null    float64\n",
      " 8   J       178 non-null    float64\n",
      " 9   K       178 non-null    float64\n",
      " 10  L       178 non-null    float64\n",
      " 11  M       178 non-null    float64\n",
      " 12  N       178 non-null    int64  \n",
      "dtypes: float64(11), int64(2)\n",
      "memory usage: 18.2 KB\n"
     ]
    }
   ],
   "source": [
    "X_data = wine_data.drop(columns=[\"A\"])\n",
    "\n",
    "X_data.info()"
   ]
  },
  {
   "cell_type": "code",
   "execution_count": 6,
   "metadata": {
    "collapsed": false,
    "jupyter": {
     "outputs_hidden": false
    }
   },
   "outputs": [
    {
     "name": "stdout",
     "output_type": "stream",
     "text": [
      "<class 'pandas.core.series.Series'>\n",
      "RangeIndex: 178 entries, 0 to 177\n",
      "Series name: A\n",
      "Non-Null Count  Dtype\n",
      "--------------  -----\n",
      "178 non-null    int64\n",
      "dtypes: int64(1)\n",
      "memory usage: 1.5 KB\n"
     ]
    }
   ],
   "source": [
    "Y_data = wine_data[['A']].squeeze() # .squeeze() reduces the dimensions of the DataFrame and returns a Series with shape (n_samples,)\n",
    "Y_data.info()"
   ]
  },
  {
   "cell_type": "code",
   "execution_count": 7,
   "metadata": {
    "collapsed": false,
    "jupyter": {
     "outputs_hidden": false
    }
   },
   "outputs": [
    {
     "name": "stdout",
     "output_type": "stream",
     "text": [
      "<class 'collections.Counter'>\n",
      "Counter({2: 71, 1: 59, 3: 48})\n"
     ]
    }
   ],
   "source": [
    "counter1=collections.Counter(Y_data)\n",
    "print(type(counter1))\n",
    "print(counter1)"
   ]
  },
  {
   "cell_type": "code",
   "execution_count": 8,
   "metadata": {
    "collapsed": false,
    "jupyter": {
     "outputs_hidden": false
    }
   },
   "outputs": [
    {
     "name": "stdout",
     "output_type": "stream",
     "text": [
      "178\n",
      "KFold(n_splits=5, random_state=42, shuffle=True)\n"
     ]
    }
   ],
   "source": [
    "\n",
    "a_len = len(Y_data)\n",
    "print(a_len)\n",
    "kf = KFold( n_splits=5, shuffle=True, random_state=42)\n",
    "print(kf)\n",
    "#help(KFold)\n",
    "\n",
    "\n"
   ]
  },
  {
   "cell_type": "code",
   "execution_count": 9,
   "metadata": {
    "collapsed": false,
    "jupyter": {
     "outputs_hidden": false
    }
   },
   "outputs": [
    {
     "name": "stdout",
     "output_type": "stream",
     "text": [
      "1 [0.94444444 0.94444444 0.91666667 0.97142857 0.94285714] 0.943968253968254\n",
      "2 [0.94444444 0.88888889 0.91666667 0.97142857 0.94285714] 0.9328571428571429\n",
      "3 [0.94444444 0.94444444 0.97222222 0.97142857 0.94285714] 0.9550793650793651\n",
      "4 [0.94444444 0.91666667 0.94444444 0.94285714 0.94285714] 0.9382539682539683\n",
      "5 [0.94444444 0.94444444 0.97222222 0.91428571 0.97142857] 0.9493650793650794\n",
      "6 [0.94444444 0.91666667 0.97222222 0.97142857 0.94285714] 0.9495238095238095\n",
      "7 [0.94444444 0.91666667 0.97222222 0.94285714 0.97142857] 0.9495238095238095\n",
      "8 [0.94444444 0.91666667 0.97222222 0.97142857 0.97142857] 0.9552380952380952\n",
      "9 [0.94444444 0.94444444 0.97222222 0.94285714 1.        ] 0.9607936507936508\n",
      "10 [0.94444444 0.94444444 0.97222222 0.97142857 0.97142857] 0.9607936507936508\n",
      "11 [0.94444444 0.94444444 0.94444444 0.97142857 1.        ] 0.9609523809523809\n",
      "12 [0.97222222 0.91666667 0.94444444 0.97142857 0.97142857] 0.9552380952380952\n",
      "13 [0.94444444 0.94444444 0.94444444 0.91428571 1.        ] 0.9495238095238093\n",
      "14 [0.97222222 0.94444444 0.97222222 0.97142857 0.97142857] 0.9663492063492063\n",
      "15 [0.97222222 0.94444444 0.97222222 0.97142857 1.        ] 0.9720634920634922\n",
      "16 [0.97222222 0.94444444 0.97222222 0.97142857 1.        ] 0.9720634920634922\n",
      "17 [0.97222222 0.91666667 0.97222222 0.97142857 1.        ] 0.9665079365079364\n",
      "18 [0.97222222 0.91666667 0.97222222 0.97142857 1.        ] 0.9665079365079364\n",
      "19 [0.94444444 0.91666667 0.94444444 0.97142857 1.        ] 0.9553968253968254\n",
      "20 [0.97222222 0.91666667 0.97222222 0.97142857 1.        ] 0.9665079365079364\n",
      "21 [0.94444444 0.91666667 0.97222222 0.97142857 1.        ] 0.9609523809523811\n",
      "22 [0.94444444 0.94444444 0.97222222 0.97142857 1.        ] 0.9665079365079364\n",
      "23 [0.94444444 0.94444444 0.94444444 0.97142857 1.        ] 0.9609523809523809\n",
      "24 [0.94444444 0.94444444 0.94444444 0.97142857 0.97142857] 0.9552380952380952\n",
      "25 [0.94444444 0.94444444 0.94444444 0.97142857 0.97142857] 0.9552380952380952\n",
      "26 [0.94444444 0.94444444 0.97222222 0.97142857 0.97142857] 0.9607936507936508\n",
      "27 [0.94444444 0.94444444 0.94444444 0.97142857 0.97142857] 0.9552380952380952\n",
      "28 [0.97222222 0.94444444 0.97222222 0.97142857 0.97142857] 0.9663492063492063\n",
      "29 [1.         0.94444444 0.97222222 0.97142857 1.        ] 0.9776190476190475\n",
      "30 [0.97222222 0.91666667 0.97222222 0.97142857 0.97142857] 0.9607936507936508\n",
      "31 [0.97222222 0.91666667 0.94444444 0.97142857 0.97142857] 0.9552380952380952\n",
      "32 [0.97222222 0.91666667 0.97222222 0.97142857 0.97142857] 0.9607936507936508\n",
      "33 [1.         0.91666667 0.97222222 0.97142857 0.97142857] 0.9663492063492063\n",
      "34 [1.         0.91666667 0.97222222 0.97142857 0.97142857] 0.9663492063492063\n",
      "35 [1.         0.88888889 0.97222222 0.97142857 0.97142857] 0.9607936507936508\n",
      "36 [0.97222222 0.91666667 0.97222222 0.97142857 0.97142857] 0.9607936507936508\n",
      "37 [0.97222222 0.88888889 0.97222222 0.97142857 0.97142857] 0.9552380952380952\n",
      "38 [0.97222222 0.91666667 0.97222222 0.97142857 0.97142857] 0.9607936507936508\n",
      "39 [0.97222222 0.91666667 0.97222222 0.97142857 0.97142857] 0.9607936507936508\n",
      "40 [0.97222222 0.91666667 0.97222222 0.97142857 0.97142857] 0.9607936507936508\n",
      "41 [1.         0.91666667 0.97222222 0.97142857 0.97142857] 0.9663492063492063\n",
      "42 [0.94444444 0.94444444 0.97222222 0.97142857 0.97142857] 0.9607936507936508\n",
      "43 [1.         0.91666667 0.97222222 0.97142857 0.97142857] 0.9663492063492063\n",
      "44 [1.         0.91666667 0.97222222 0.97142857 0.94285714] 0.9606349206349206\n",
      "45 [1.         0.91666667 0.97222222 0.97142857 0.97142857] 0.9663492063492063\n",
      "46 [0.94444444 0.91666667 0.97222222 0.97142857 0.94285714] 0.9495238095238095\n",
      "47 [0.97222222 0.91666667 0.97222222 0.97142857 0.94285714] 0.9550793650793651\n",
      "48 [0.94444444 0.91666667 0.97222222 0.97142857 0.94285714] 0.9495238095238095\n",
      "49 [0.97222222 0.91666667 0.97222222 0.97142857 0.94285714] 0.9550793650793651\n",
      "50 [0.97222222 0.94444444 0.97222222 0.97142857 0.94285714] 0.9606349206349206\n"
     ]
    }
   ],
   "source": [
    "# calculate with X_data for questions 1 and 2;  X_data_norm for questions 3 and 4\n",
    "\n",
    "X_data_norm= sklearn.preprocessing.scale(X_data) \n",
    "rez = {}\n",
    "for neighbors in range(1, 51):\n",
    "    classificator = KNeighborsClassifier(n_neighbors=neighbors)\n",
    "    cross_validation_arr=sklearn.model_selection.cross_val_score (classificator , X_data_norm, Y_data, cv=kf)\n",
    "    mean_value=np.mean(cross_validation_arr)\n",
    "    print(neighbors, cross_validation_arr, mean_value)\n",
    "    rez[neighbors]=mean_value\n",
    "    \n",
    "\n"
   ]
  },
  {
   "cell_type": "code",
   "execution_count": 10,
   "metadata": {
    "collapsed": false,
    "jupyter": {
     "outputs_hidden": false
    }
   },
   "outputs": [
    {
     "data": {
      "text/plain": [
       "{1: np.float64(0.943968253968254),\n",
       " 2: np.float64(0.9328571428571429),\n",
       " 3: np.float64(0.9550793650793651),\n",
       " 4: np.float64(0.9382539682539683),\n",
       " 5: np.float64(0.9493650793650794),\n",
       " 6: np.float64(0.9495238095238095),\n",
       " 7: np.float64(0.9495238095238095),\n",
       " 8: np.float64(0.9552380952380952),\n",
       " 9: np.float64(0.9607936507936508),\n",
       " 10: np.float64(0.9607936507936508),\n",
       " 11: np.float64(0.9609523809523809),\n",
       " 12: np.float64(0.9552380952380952),\n",
       " 13: np.float64(0.9495238095238093),\n",
       " 14: np.float64(0.9663492063492063),\n",
       " 15: np.float64(0.9720634920634922),\n",
       " 16: np.float64(0.9720634920634922),\n",
       " 17: np.float64(0.9665079365079364),\n",
       " 18: np.float64(0.9665079365079364),\n",
       " 19: np.float64(0.9553968253968254),\n",
       " 20: np.float64(0.9665079365079364),\n",
       " 21: np.float64(0.9609523809523811),\n",
       " 22: np.float64(0.9665079365079364),\n",
       " 23: np.float64(0.9609523809523809),\n",
       " 24: np.float64(0.9552380952380952),\n",
       " 25: np.float64(0.9552380952380952),\n",
       " 26: np.float64(0.9607936507936508),\n",
       " 27: np.float64(0.9552380952380952),\n",
       " 28: np.float64(0.9663492063492063),\n",
       " 29: np.float64(0.9776190476190475),\n",
       " 30: np.float64(0.9607936507936508),\n",
       " 31: np.float64(0.9552380952380952),\n",
       " 32: np.float64(0.9607936507936508),\n",
       " 33: np.float64(0.9663492063492063),\n",
       " 34: np.float64(0.9663492063492063),\n",
       " 35: np.float64(0.9607936507936508),\n",
       " 36: np.float64(0.9607936507936508),\n",
       " 37: np.float64(0.9552380952380952),\n",
       " 38: np.float64(0.9607936507936508),\n",
       " 39: np.float64(0.9607936507936508),\n",
       " 40: np.float64(0.9607936507936508),\n",
       " 41: np.float64(0.9663492063492063),\n",
       " 42: np.float64(0.9607936507936508),\n",
       " 43: np.float64(0.9663492063492063),\n",
       " 44: np.float64(0.9606349206349206),\n",
       " 45: np.float64(0.9663492063492063),\n",
       " 46: np.float64(0.9495238095238095),\n",
       " 47: np.float64(0.9550793650793651),\n",
       " 48: np.float64(0.9495238095238095),\n",
       " 49: np.float64(0.9550793650793651),\n",
       " 50: np.float64(0.9606349206349206)}"
      ]
     },
     "execution_count": 10,
     "metadata": {},
     "output_type": "execute_result"
    }
   ],
   "source": [
    "np.max(rez.values())\n",
    "rez\n",
    "# 29: 0.9776190476190475"
   ]
  },
  {
   "cell_type": "code",
   "execution_count": null,
   "metadata": {
    "collapsed": true,
    "jupyter": {
     "outputs_hidden": true
    }
   },
   "outputs": [],
   "source": []
  }
 ],
 "metadata": {
  "kernelspec": {
   "display_name": "Python 3 (ipykernel)",
   "language": "python",
   "name": "python3"
  },
  "language_info": {
   "codemirror_mode": {
    "name": "ipython",
    "version": 3
   },
   "file_extension": ".py",
   "mimetype": "text/x-python",
   "name": "python",
   "nbconvert_exporter": "python",
   "pygments_lexer": "ipython3",
   "version": "3.12.4"
  }
 },
 "nbformat": 4,
 "nbformat_minor": 4
}
