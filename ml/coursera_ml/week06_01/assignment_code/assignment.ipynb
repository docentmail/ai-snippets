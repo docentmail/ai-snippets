{
 "cells": [
  {
   "cell_type": "code",
   "execution_count": null,
   "metadata": {
    "collapsed": false
   },
   "outputs": [],
   "source": [
    "from skimage.io import imread\n",
    "\n",
    "image = imread('parrots.jpg')"
   ]
  },
  {
   "cell_type": "code",
   "execution_count": 2,
   "metadata": {
    "collapsed": false
   },
   "outputs": [],
   "source": [
    "from skimage import img_as_float"
   ]
  },
  {
   "cell_type": "code",
   "execution_count": 3,
   "metadata": {
    "collapsed": true
   },
   "outputs": [],
   "source": [
    "image_data = img_as_float(image)"
   ]
  },
  {
   "cell_type": "code",
   "execution_count": 4,
   "metadata": {
    "collapsed": false
   },
   "outputs": [
    {
     "data": {
      "text/plain": [
       "(474, 713, 3)"
      ]
     },
     "execution_count": 4,
     "metadata": {},
     "output_type": "execute_result"
    }
   ],
   "source": [
    "image_data.shape"
   ]
  },
  {
   "cell_type": "code",
   "execution_count": 5,
   "metadata": {
    "collapsed": false
   },
   "outputs": [
    {
     "name": "stdout",
     "output_type": "stream",
     "text": [
      "474\n",
      "713\n"
     ]
    }
   ],
   "source": [
    "print(len(image_data))\n",
    "print(len(image_data[0]))\n",
    "#474\n",
    "#713"
   ]
  },
  {
   "cell_type": "code",
   "execution_count": 6,
   "metadata": {
    "collapsed": false
   },
   "outputs": [
    {
     "name": "stdout",
     "output_type": "stream",
     "text": [
      "474\n",
      "713\n",
      "3\n"
     ]
    }
   ],
   "source": [
    "import numpy as np\n",
    "\n",
    "image_width = 713\n",
    "image_height = 474\n",
    "\n",
    "# -1 explanation\n",
    "# http://stackoverflow.com/questions/18691084/what-does-1-mean-in-numpy-reshape\n",
    "# X all pixels in one row - each pixel RGB list of the 3\n",
    "X = np.reshape(image_data, (-1, 3))\n",
    "\n",
    "X_backward = np.reshape(X, (-1, image_width, 3))\n",
    "\n",
    "print(len(X_backward))\n",
    "print(len(X_backward[0]))\n",
    "print(len(X_backward[0][0]))\n",
    "# 474\n",
    "# 713\n",
    "# 3"
   ]
  },
  {
   "cell_type": "code",
   "execution_count": 19,
   "metadata": {
    "collapsed": false
   },
   "outputs": [
    {
     "data": {
      "text/plain": [
       "array([[ 0.01176471,  0.49019608,  0.01568627],\n",
       "       [ 0.01176471,  0.49019608,  0.01568627],\n",
       "       [ 0.00784314,  0.49411765,  0.00784314],\n",
       "       ..., \n",
       "       [ 0.03137255,  0.08235294,  0.10588235],\n",
       "       [ 0.09411765,  0.14901961,  0.19215686],\n",
       "       [ 0.09411765,  0.15686275,  0.21568627]])"
      ]
     },
     "execution_count": 19,
     "metadata": {},
     "output_type": "execute_result"
    }
   ],
   "source": [
    "X"
   ]
  },
  {
   "cell_type": "code",
   "execution_count": 7,
   "metadata": {
    "collapsed": false
   },
   "outputs": [],
   "source": [
    "import numpy as np\n",
    "from sklearn.cluster import KMeans\n",
    "\n",
    "def psnr(d1, d2):\n",
    "    maximum_data_value = 1\n",
    "    error = d1.astype(np.float64)-d2.astype(np.float64)\n",
    "    mean_squared_error = np.sum(error**2) / error.size\n",
    "    \n",
    "    return 10.0 * np.log10(maximum_data_value**2 / mean_squared_error)\n",
    "\n",
    "def clustered_data(n_clusters, X):\n",
    "    clf = KMeans(n_clusters=n_clusters, random_state=241, init='k-means++')\n",
    "    clf.fit(X)\n",
    "    y = clf.predict(X)\n",
    "    \n",
    "    X_median = X.copy()\n",
    "    X_mean = X.copy()\n",
    "    for i in range(clf.n_clusters):\n",
    "        X_median[y==i] = np.median(X[y==i], axis=0)\n",
    "        X_mean[y==i] = np.mean(X[y==i], axis=0)\n",
    "        \n",
    "    return X_mean, X_median, psnr(X, X_mean), psnr(X, X_median)"
   ]
  },
  {
   "cell_type": "code",
   "execution_count": 11,
   "metadata": {
    "collapsed": true
   },
   "outputs": [],
   "source": [
    "new_data = []\n",
    "for n_clusters in range(10, 21):\n",
    "    new_data.append(clustered_data(n_clusters=n_clusters, X=X))\n",
    "    \n",
    "#  Answer - 11 - Это значение получается при использовании среднего значения цвета.    \n",
    "#     5,11\n",
    "# [(15.59087918489694, 15.251978286867427),\n",
    "# (16.606633582060052, 16.116477054495576),\n",
    "# (17.698938034839355, 17.402788477712377),\n",
    "# (18.484545014778206, 18.179012974559761),\n",
    "# (19.16679113217798, 18.877885786544613),\n",
    "# (19.696744984459166, 19.470240283913842)]\n",
    "#  10-21\n",
    "#[(19.696744984459166, 19.470240283913842),\n",
    "# (20.182105113611975, 19.917841405293061), 11 - this is answer\n",
    "# (20.651754975603353, 20.362662348851501),\n",
    "# (21.077417788756023, 20.855939926074814),\n",
    "# (21.383826883212535, 21.177323706379951),\n",
    "# (21.633537364817926, 21.397840388276848),\n",
    "# (21.918578689066976, 21.733382269648448),\n",
    "# (22.177094107958638, 21.97625763339979),\n",
    "# (22.389387337333883, 22.196866316012546),\n",
    "# (22.576758016129176, 22.421390665024319),\n",
    "# (22.772113528863919, 22.621559177518733)]\n",
    "    "
   ]
  },
  {
   "cell_type": "code",
   "execution_count": 12,
   "metadata": {
    "collapsed": false
   },
   "outputs": [
    {
     "name": "stdout",
     "output_type": "stream",
     "text": [
      "[(15.59087918489694, 15.251978286867427),\n",
      " (16.606633582060052, 16.116477054495576),\n",
      " (17.698938034839355, 17.402788477712377),\n",
      " (18.484545014778206, 18.179012974559761),\n",
      " (19.16679113217798, 18.877885786544613),\n",
      " (19.696744984459166, 19.470240283913842)]\n"
     ]
    }
   ],
   "source": [
    "import pprint\n",
    "pprint.pprint([(item[2], item[3]) for item in new_data])\n"
   ]
  },
  {
   "cell_type": "code",
   "execution_count": 10,
   "metadata": {
    "collapsed": true
   },
   "outputs": [],
   "source": [
    "import matplotlib.pyplot as plt\n",
    "\n",
    "plt.plot()\n",
    "\n",
    "plt.subplot(211)\n",
    "plt.imshow(np.reshape(new_data[0][1], (-1, image_width, 3)))\n",
    "\n",
    "plt.subplot(212)\n",
    "plt.imshow(np.reshape(new_data[-1][1], (-1, image_width, 3)))\n",
    "plt.show()"
   ]
  },
  {
   "cell_type": "code",
   "execution_count": null,
   "metadata": {
    "collapsed": true
   },
   "outputs": [],
   "source": []
  }
 ],
 "metadata": {
  "kernelspec": {
   "display_name": "Python 2",
   "language": "python",
   "name": "python2"
  },
  "language_info": {
   "codemirror_mode": {
    "name": "ipython",
    "version": 2
   },
   "file_extension": ".py",
   "mimetype": "text/x-python",
   "name": "python",
   "nbconvert_exporter": "python",
   "pygments_lexer": "ipython2",
   "version": "2.7.11"
  }
 },
 "nbformat": 4,
 "nbformat_minor": 0
}
