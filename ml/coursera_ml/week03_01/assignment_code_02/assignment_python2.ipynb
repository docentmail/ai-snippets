{
 "cells": [
  {
   "cell_type": "markdown",
   "metadata": {},
   "source": [
    "# загрузить данные."
   ]
  },
  {
   "cell_type": "code",
   "execution_count": 1,
   "metadata": {
    "collapsed": true
   },
   "outputs": [],
   "source": [
    "import numpy as np\n",
    "import pandas as pd\n",
    "import sys\n",
    "from sklearn import svm, grid_search, datasets\n",
    "from sklearn.cross_validation import KFold"
   ]
  },
  {
   "cell_type": "code",
   "execution_count": 2,
   "metadata": {
    "collapsed": false
   },
   "outputs": [],
   "source": [
    "\n",
    "from sklearn import datasets\n",
    "\n",
    "newsgroups = datasets.fetch_20newsgroups(subset='all',categories=['alt.atheism','sci.space'])\n",
    "\n",
    "# После выполнения этого кода массив с текстами будет \n",
    "# находиться в поле newsgroups.data, номер класса — в поле newsgroups.target.\n",
    "\n",
    "# print newsgroups.data\n",
    "# print newsgroups.target\n",
    "# print 'done'"
   ]
  },
  {
   "cell_type": "code",
   "execution_count": null,
   "metadata": {
    "collapsed": false
   },
   "outputs": [
    {
     "name": "stdout",
     "output_type": "stream",
     "text": [
      "<type 'list'> <type 'numpy.ndarray'>\n"
     ]
    },
    {
     "data": {
      "text/plain": [
       "1786"
      ]
     },
     "execution_count": 3,
     "metadata": {},
     "output_type": "execute_result"
    }
   ],
   "source": [
    "print (type(newsgroups.data), type(newsgroups.target))\n",
    "newsgroups.target\n",
    "len(newsgroups.data)"
   ]
  },
  {
   "cell_type": "markdown",
   "metadata": {},
   "source": [
    "# вычисление TF-IDF. \n",
    "В Scikit-Learn это реализовано в классе sklearn.feature_extraction.text.TfidfVectorizer. \n",
    "Преобразование обучающей выборки нужно делать с помощью функции fit_transform, тестовой — с помощью transform."
   ]
  },
  {
   "cell_type": "code",
   "execution_count": 4,
   "metadata": {
    "collapsed": false
   },
   "outputs": [],
   "source": [
    "from sklearn.feature_extraction.text import TfidfVectorizer\n",
    "vectorizer=TfidfVectorizer() # stop_words\n",
    "# help(TfidfVectorizer.fit_transform)\n",
    "# Learn vocabulary and idf, return term-document matrix.\n",
    "Tfidf_X = vectorizer.fit_transform(newsgroups.data)\n",
    "Tfidf_Y = newsgroups.target\n",
    "\n"
   ]
  },
  {
   "cell_type": "code",
   "execution_count": 5,
   "metadata": {
    "collapsed": false
   },
   "outputs": [
    {
     "data": {
      "text/plain": [
       "1786"
      ]
     },
     "execution_count": 5,
     "metadata": {},
     "output_type": "execute_result"
    }
   ],
   "source": [
    "Tfidf_Y.size"
   ]
  },
  {
   "cell_type": "markdown",
   "metadata": {},
   "source": [
    "Подберите минимальный лучший параметр C из множества [10^-5, 10^-4, ... 10^4, 10^5] для SVM с линейным ядром (kernel='linear') при помощи кросс-валидации по 5 блокам. \n",
    "Укажите параметр random_state=241 и для SVM, и для KFold. В качестве меры качества используйте долю верных ответов (accuracy).\n",
    "Первым аргументом в GridSearchCV передается классификатор, для которого будут подбираться значения параметров, вторым — словарь (dict), задающий сетку параметров для перебора."
   ]
  },
  {
   "cell_type": "code",
   "execution_count": null,
   "metadata": {
    "collapsed": false
   },
   "outputs": [
    {
     "name": "stdout",
     "output_type": "stream",
     "text": [
      "1\n",
      "12\n",
      "123\n",
      "1234\n",
      "1235\n"
     ]
    }
   ],
   "source": [
    "grid = {'C': np.power(10.0, np.arange(-5, 6))}\n",
    "print (1)\n",
    "cv = KFold(Tfidf_Y.size, n_folds=5, shuffle=True, random_state=241)\n",
    "print (12)\n",
    "clf = svm.SVC(kernel='linear', random_state=241)\n",
    "print (123)\n",
    "gs = grid_search.GridSearchCV(clf, grid, scoring='accuracy', cv=cv)\n",
    "print (1234)\n",
    "gs.fit(Tfidf_X, Tfidf_Y)\n",
    "print (1235) # работает минут 10 - смотри процессора загрузку"
   ]
  },
  {
   "cell_type": "code",
   "execution_count": 8,
   "metadata": {
    "collapsed": false
   },
   "outputs": [
    {
     "data": {
      "text/plain": [
       "[mean: 0.55263, std: 0.02812, params: {'C': 1.0000000000000001e-05},\n",
       " mean: 0.55263, std: 0.02812, params: {'C': 0.0001},\n",
       " mean: 0.55263, std: 0.02812, params: {'C': 0.001},\n",
       " mean: 0.55263, std: 0.02812, params: {'C': 0.01},\n",
       " mean: 0.95017, std: 0.00822, params: {'C': 0.10000000000000001},\n",
       " mean: 0.99328, std: 0.00455, params: {'C': 1.0},\n",
       " mean: 0.99328, std: 0.00455, params: {'C': 10.0},\n",
       " mean: 0.99328, std: 0.00455, params: {'C': 100.0},\n",
       " mean: 0.99328, std: 0.00455, params: {'C': 1000.0},\n",
       " mean: 0.99328, std: 0.00455, params: {'C': 10000.0},\n",
       " mean: 0.99328, std: 0.00455, params: {'C': 100000.0}]"
      ]
     },
     "execution_count": 8,
     "metadata": {},
     "output_type": "execute_result"
    }
   ],
   "source": [
    "gs.grid_scores_"
   ]
  },
  {
   "cell_type": "markdown",
   "metadata": {},
   "source": [
    "После того, как перебор окончен, можно проанализировать значения качества для всех значений параметров и выбрать наилучший вариант:"
   ]
  },
  {
   "cell_type": "code",
   "execution_count": null,
   "metadata": {
    "collapsed": false
   },
   "outputs": [
    {
     "name": "stdout",
     "output_type": "stream",
     "text": [
      "0.55263157894736847364214327171794138848781585693359375\n",
      "{'C': 1.0000000000000001e-05}\n",
      "0.55263157894736847364214327171794138848781585693359375\n",
      "{'C': 0.0001}\n",
      "0.55263157894736847364214327171794138848781585693359375\n",
      "{'C': 0.001}\n",
      "0.55263157894736847364214327171794138848781585693359375\n",
      "{'C': 0.01}\n",
      "0.95016797312430012478756680138758383691310882568359375\n",
      "{'C': 0.10000000000000001}\n",
      "0.99328107502799556360884025707491673529148101806640625\n",
      "{'C': 1.0}\n",
      "0.99328107502799556360884025707491673529148101806640625\n",
      "{'C': 10.0}\n",
      "0.99328107502799556360884025707491673529148101806640625\n",
      "{'C': 100.0}\n",
      "0.99328107502799556360884025707491673529148101806640625\n",
      "{'C': 1000.0}\n",
      "0.99328107502799556360884025707491673529148101806640625\n",
      "{'C': 10000.0}\n",
      "0.99328107502799556360884025707491673529148101806640625\n",
      "{'C': 100000.0}\n"
     ]
    }
   ],
   "source": [
    "for a in gs.grid_scores_:\n",
    "    print (format(a.mean_validation_score, '.100g')) # a.mean_validation_score — оценка качества по кросс-валидации\n",
    "    print (a.parameters) # a.parameters — значения параметров\n",
    "# c=1 ... 10000 дают одинаковые результаты - взял 10000"
   ]
  },
  {
   "cell_type": "markdown",
   "metadata": {},
   "source": [
    "Обучите SVM по всей выборке с оптимальным параметром C, найденным на предыдущем шаге."
   ]
  },
  {
   "cell_type": "code",
   "execution_count": 61,
   "metadata": {
    "collapsed": false
   },
   "outputs": [
    {
     "data": {
      "text/plain": [
       "SVC(C=100000, cache_size=200, class_weight=None, coef0=0.0,\n",
       "  decision_function_shape=None, degree=3, gamma='auto', kernel='linear',\n",
       "  max_iter=-1, probability=False, random_state=241, shrinking=True,\n",
       "  tol=0.001, verbose=False)"
      ]
     },
     "execution_count": 61,
     "metadata": {},
     "output_type": "execute_result"
    }
   ],
   "source": [
    "from sklearn.svm import SVC\n",
    "# Create classifiier\n",
    "clf = SVC(C=100000 ,random_state=241,kernel='linear')\n",
    "# Обучите классификатор \n",
    "Tfidf_X_test = vectorizer.transform(newsgroups.data) # \n",
    "clf.fit(Tfidf_X_test, Tfidf_Y) "
   ]
  },
  {
   "cell_type": "markdown",
   "metadata": {},
   "source": [
    "Найдите 10 слов с наибольшим абсолютным значением веса (веса хранятся в поле coef_ у svm.SVC). Они являются ответом на это задание. Укажите эти слова через запятую или пробел, в нижнем регистре, в лексикографическом порядке."
   ]
  },
  {
   "cell_type": "code",
   "execution_count": null,
   "metadata": {
    "collapsed": false
   },
   "outputs": [
    {
     "name": "stdout",
     "output_type": "stream",
     "text": [
      "<class 'scipy.sparse.csr.csr_matrix'>\n",
      "  (0, 11098)\t0.113315317878\n",
      "  (0, 6775)\t0.0513432082411\n",
      "  (0, 5107)\t0.0544519626112\n",
      "  (0, 98)\t0.059766413309\n",
      "  (0, 27042)\t0.104718642966\n",
      "  (0, 22622)\t0.104718642966\n",
      "  (0, 6135)\t0.104718642966\n",
      "  (0, 27130)\t0.00684318140366\n",
      "  (0, 27083)\t0.00684318140366\n",
      "  (0, 26026)\t0.00721866056204\n",
      "  (0, 23036)\t0.00620129554273\n",
      "  (0, 22982)\t0.00721866056204\n",
      "  (0, 22762)\t0.00721866056204\n",
      "  (0, 22739)\t0.00721866056204\n",
      "  (0, 22595)\t0.00721866056204\n",
      "  (0, 21945)\t0.00684318140366\n",
      "  (0, 20801)\t0.0144373211241\n",
      "  (0, 20800)\t0.0479022698256\n",
      "  (0, 20042)\t0.0216559816861\n",
      "  (0, 16400)\t0.0166782290454\n",
      "  (0, 16224)\t0.00721866056204\n",
      "  (0, 13928)\t0.00721866056204\n",
      "  (0, 11716)\t0.00721866056204\n",
      "  (0, 10127)\t0.00684318140366\n",
      "  (0, 8938)\t0.00721866056204\n",
      "  :\t:\n",
      "  (0, 9935)\t0.324839975194\n",
      "  (0, 9711)\t-0.0951687122427\n",
      "  (0, 9622)\t0.0399088130115\n",
      "  (0, 9368)\t-0.311250533821\n",
      "  (0, 9107)\t-0.157524596754\n",
      "  (0, 9034)\t0.144841345667\n",
      "  (0, 9009)\t-0.315049193508\n",
      "  (0, 8498)\t0.0111960110243\n",
      "  (0, 7951)\t-0.0200462590056\n",
      "  (0, 7418)\t-0.162634545264\n",
      "  (0, 7316)\t-0.0872790112064\n",
      "  (0, 6702)\t0.441818285927\n",
      "  (0, 5653)\t-0.155915123743\n",
      "  (0, 5621)\t-0.325269090529\n",
      "  (0, 5596)\t-0.501616320011\n",
      "  (0, 5563)\t0.0279017528158\n",
      "  (0, 4796)\t-0.302351221345\n",
      "  (0, 4455)\t-0.15490289509\n",
      "  (0, 4241)\t-0.564363118987\n",
      "  (0, 4059)\t-0.0350470076576\n",
      "  (0, 4040)\t-0.211759629633\n",
      "  (0, 3837)\t-0.287742272296\n",
      "  (0, 3669)\t-0.237285503343\n",
      "  (0, 3601)\t0.184611243628\n",
      "  (0, 335)\t-0.241001804518\n",
      "Done\n"
     ]
    }
   ],
   "source": [
    "print (type(clf.coef_))\n",
    "print (clf.coef_)\n",
    "print ('Done')"
   ]
  },
  {
   "cell_type": "code",
   "execution_count": 33,
   "metadata": {
    "collapsed": false
   },
   "outputs": [
    {
     "data": {
      "text/plain": [
       "array([ 0.12314757,  0.05579821,  0.0591767 , ..., -0.21840789,\n",
       "        0.1860677 , -0.24480891])"
      ]
     },
     "execution_count": 33,
     "metadata": {},
     "output_type": "execute_result"
    }
   ],
   "source": [
    "clf.coef_.data"
   ]
  },
  {
   "cell_type": "code",
   "execution_count": 62,
   "metadata": {
    "collapsed": false
   },
   "outputs": [
    {
     "data": {
      "text/plain": [
       "array([18430, 15606,  5776, 21850, 23673, 17802,  5093,  5088, 12871, 24019])"
      ]
     },
     "execution_count": 62,
     "metadata": {},
     "output_type": "execute_result"
    }
   ],
   "source": [
    "coef_ = clf.coef_.toarray()[0]\n",
    "top10 = np.argsort(abs(coef_))[-10:]\n",
    "top10\n",
    "#  C=1      array([11072,  6685, 12503, 16027,  9043, 18158, 22936, 23673, 17802, 24019])\n",
    "#  C=10     array([16027,  9043, 12503, 11072, 22936, 18158, 18430, 23673, 17802, 24019])\n",
    "#  C=100    array([16027,  9043, 12503, 11072, 22936, 18158, 18430, 23673, 17802, 24019])\n",
    "#  C=1000\n",
    "#  C=10000\n",
    "#  C=100000 array([16027,  9043, 12503, 11072, 22936, 18158, 18430, 23673, 17802, 24019])"
   ]
  },
  {
   "cell_type": "code",
   "execution_count": null,
   "metadata": {
    "collapsed": false
   },
   "outputs": [
    {
     "name": "stdout",
     "output_type": "stream",
     "text": [
      "space\n"
     ]
    }
   ],
   "source": [
    "# как вытянуть слово по индексу\n",
    "feature_mapping = vectorizer.get_feature_names()\n",
    "print (feature_mapping[24019])"
   ]
  },
  {
   "cell_type": "code",
   "execution_count": null,
   "metadata": {
    "collapsed": false
   },
   "outputs": [
    {
     "name": "stdout",
     "output_type": "stream",
     "text": [
      ",atheism,atheists,bible,god,keith,moon,nick,religion,sky,space\n"
     ]
    }
   ],
   "source": [
    "rez=''\n",
    "rez_list=[]\n",
    "for indexx in top10:\n",
    "    rez_list.append(feature_mapping[indexx])\n",
    "\n",
    "for x in sorted(rez_list):  # упорядочили лексикографически\n",
    "    rez=rez+\",\"+x\n",
    "print (rez)\n",
    "\n",
    "# C=10         \n",
    "# C=100000     ,atheism,atheists,bible,god,keith,moon,nick,religion,sky,space"
   ]
  },
  {
   "cell_type": "code",
   "execution_count": null,
   "metadata": {
    "collapsed": true
   },
   "outputs": [],
   "source": []
  }
 ],
 "metadata": {
  "kernelspec": {
   "display_name": "Python 2",
   "language": "python",
   "name": "python2"
  },
  "language_info": {
   "codemirror_mode": {
    "name": "ipython",
    "version": 2
   },
   "file_extension": ".py",
   "mimetype": "text/x-python",
   "name": "python",
   "nbconvert_exporter": "python",
   "pygments_lexer": "ipython2",
   "version": "2.7.11"
  }
 },
 "nbformat": 4,
 "nbformat_minor": 0
}
