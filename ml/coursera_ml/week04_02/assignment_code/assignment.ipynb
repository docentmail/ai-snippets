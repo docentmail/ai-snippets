{
 "cells": [
  {
   "cell_type": "code",
   "execution_count": null,
   "metadata": {
    "collapsed": false
   },
   "outputs": [],
   "source": [
    "# some comments\n",
    "import pandas\n",
    "\n",
    "close_prices = pandas.read_csv(filepath_or_buffer='close_prices.csv')\n",
    "djia_index = pandas.read_csv(filepath_or_buffer='djia_index.csv')\n",
    "\n",
    "datas = close_prices['date']\n",
    "close_prices = close_prices.drop('date', 1)"
   ]
  },
  {
   "cell_type": "code",
   "execution_count": 44,
   "metadata": {
    "collapsed": false
   },
   "outputs": [
    {
     "ename": "TypeError",
     "evalue": "'DataFrame' object is not callable",
     "output_type": "error",
     "traceback": [
      "\u001b[0;31m---------------------------------------------------------------------------\u001b[0m",
      "\u001b[0;31mTypeError\u001b[0m                                 Traceback (most recent call last)",
      "\u001b[0;32m<ipython-input-44-5eae7b00052f>\u001b[0m in \u001b[0;36m<module>\u001b[0;34m()\u001b[0m\n\u001b[0;32m----> 1\u001b[0;31m \u001b[0;32mprint\u001b[0m \u001b[0mclose_prices\u001b[0m\u001b[0;34m(\u001b[0m\u001b[0;34m[\u001b[0m\u001b[0;36m0\u001b[0m\u001b[0;34m]\u001b[0m\u001b[0;34m)\u001b[0m\u001b[0;34m\u001b[0m\u001b[0m\n\u001b[0m\u001b[1;32m      2\u001b[0m \u001b[0;32mprint\u001b[0m \u001b[0mclose_prices\u001b[0m\u001b[0;34m.\u001b[0m\u001b[0minfo\u001b[0m\u001b[0;34m(\u001b[0m\u001b[0;34m)\u001b[0m\u001b[0;34m\u001b[0m\u001b[0m\n",
      "\u001b[0;31mTypeError\u001b[0m: 'DataFrame' object is not callable"
     ]
    }
   ],
   "source": [
    "print close_prices([0])\n",
    "print close_prices.info()\n"
   ]
  },
  {
   "cell_type": "code",
   "execution_count": 40,
   "metadata": {
    "collapsed": false
   },
   "outputs": [
    {
     "data": {
      "text/plain": [
       "PCA(copy=True, n_components=3, whiten=False)"
      ]
     },
     "execution_count": 40,
     "metadata": {},
     "output_type": "execute_result"
    }
   ],
   "source": [
    "from sklearn.decomposition import PCA\n",
    "\n",
    "pca = PCA(n_components=3)\n",
    "pca.fit(close_prices)"
   ]
  },
  {
   "cell_type": "code",
   "execution_count": 41,
   "metadata": {
    "collapsed": false
   },
   "outputs": [
    {
     "name": "stdout",
     "output_type": "stream",
     "text": [
      "0.898993755584\n",
      "[ 0.73897118  0.11007169  0.04995088]\n",
      "[[  1.61383840e-02   1.20644923e-01  -5.16612711e-02   5.04842369e-02\n",
      "   -1.25859933e-01   1.14089567e-01   2.33906290e-01  -6.20513749e-03\n",
      "    2.51227032e-01   2.88996029e-01  -2.64998795e-01   9.31320168e-02\n",
      "    9.13948403e-02   4.69879340e-02   2.90549417e-02  -2.61068828e-02\n",
      "    3.29615584e-01   7.13897133e-02   7.62295699e-02   2.11888868e-01\n",
      "    2.30922941e-02   7.77316954e-02  -7.20594590e-03   1.89479745e-01\n",
      "    3.21564017e-01   5.36834873e-02   5.79683946e-01   1.09122230e-04\n",
      "    8.71614334e-02  -4.29421420e-02]\n",
      " [  2.33025791e-01  -1.38102207e-01   5.64736227e-01   2.94213771e-02\n",
      "    2.97156167e-01   7.00723638e-02   2.41633004e-01   2.26028350e-02\n",
      "    1.05527180e-01  -3.16032026e-02   3.56926513e-01   1.51980885e-01\n",
      "    2.76101639e-01   6.73887479e-02   5.03438625e-02   5.87043804e-02\n",
      "    2.17410195e-01   1.90769246e-01   1.66275222e-01  -2.25387182e-02\n",
      "   -4.07006441e-02   1.86523497e-02   3.55593965e-02   7.67098774e-02\n",
      "    5.41168982e-02   1.82997954e-03  -1.06387814e-01   3.21923154e-02\n",
      "   -5.03033207e-02   2.57983104e-01]\n",
      " [  1.05902102e-01   4.73844545e-01   5.37487494e-02  -7.20638781e-03\n",
      "    4.84014835e-02   6.66524068e-02   4.53663481e-02   3.17864061e-02\n",
      "   -3.48308747e-01  -1.42316297e-01   2.06736652e-01  -1.59192377e-01\n",
      "   -1.16708078e-01  -1.30026185e-02  -4.34870459e-02   1.87096064e-01\n",
      "    8.54676853e-02   1.03314831e-02  -1.51788920e-01  -2.58569260e-01\n",
      "    7.07110772e-02  -1.35307492e-01   1.10443628e-03  -9.18773088e-02\n",
      "   -7.20122232e-02   4.33767778e-01   3.75349831e-01  -2.22521778e-02\n",
      "    1.29157960e-02   1.64834697e-01]]\n"
     ]
    }
   ],
   "source": [
    "print sum(pca.explained_variance_ratio_)\n",
    "print(pca.explained_variance_ratio_)\n",
    "print(pca.components_)"
   ]
  },
  {
   "cell_type": "code",
   "execution_count": 4,
   "metadata": {
    "collapsed": false
   },
   "outputs": [
    {
     "name": "stdout",
     "output_type": "stream",
     "text": [
      "[ 0.73897118  0.11007169  0.04995088  0.0287492 ]\n",
      "[[  1.61383840e-02   1.20644923e-01  -5.16612711e-02   5.04842369e-02\n",
      "   -1.25859933e-01   1.14089567e-01   2.33906290e-01  -6.20513749e-03\n",
      "    2.51227032e-01   2.88996029e-01  -2.64998795e-01   9.31320168e-02\n",
      "    9.13948403e-02   4.69879340e-02   2.90549417e-02  -2.61068828e-02\n",
      "    3.29615584e-01   7.13897133e-02   7.62295699e-02   2.11888868e-01\n",
      "    2.30922941e-02   7.77316954e-02  -7.20594590e-03   1.89479745e-01\n",
      "    3.21564017e-01   5.36834873e-02   5.79683946e-01   1.09122230e-04\n",
      "    8.71614334e-02  -4.29421420e-02]\n",
      " [  2.33025791e-01  -1.38102207e-01   5.64736227e-01   2.94213771e-02\n",
      "    2.97156167e-01   7.00723638e-02   2.41633004e-01   2.26028350e-02\n",
      "    1.05527180e-01  -3.16032026e-02   3.56926513e-01   1.51980885e-01\n",
      "    2.76101639e-01   6.73887479e-02   5.03438625e-02   5.87043804e-02\n",
      "    2.17410195e-01   1.90769246e-01   1.66275222e-01  -2.25387182e-02\n",
      "   -4.07006441e-02   1.86523497e-02   3.55593965e-02   7.67098774e-02\n",
      "    5.41168982e-02   1.82997954e-03  -1.06387814e-01   3.21923154e-02\n",
      "   -5.03033207e-02   2.57983104e-01]\n",
      " [  1.05902102e-01   4.73844545e-01   5.37487494e-02  -7.20638781e-03\n",
      "    4.84014835e-02   6.66524068e-02   4.53663481e-02   3.17864061e-02\n",
      "   -3.48308747e-01  -1.42316297e-01   2.06736652e-01  -1.59192377e-01\n",
      "   -1.16708078e-01  -1.30026185e-02  -4.34870459e-02   1.87096064e-01\n",
      "    8.54676853e-02   1.03314831e-02  -1.51788920e-01  -2.58569260e-01\n",
      "    7.07110772e-02  -1.35307492e-01   1.10443628e-03  -9.18773088e-02\n",
      "   -7.20122232e-02   4.33767778e-01   3.75349831e-01  -2.22521778e-02\n",
      "    1.29157960e-02   1.64834697e-01]\n",
      " [ -3.26935606e-01   4.45168360e-01  -2.30866221e-01   5.59195533e-02\n",
      "    1.24083842e-01   9.84642122e-02   2.19909398e-01   2.88787430e-03\n",
      "   -5.18013866e-02   3.06423549e-01   2.16240945e-01   2.64952190e-02\n",
      "    4.29749373e-02  -5.55173866e-02   4.05826204e-02   6.74128873e-02\n",
      "    1.12391739e-01  -3.37610856e-02  -2.82940804e-02  -6.31182333e-03\n",
      "    5.82471614e-03  -4.07143250e-02   5.12738420e-02   1.89204055e-01\n",
      "    2.97420842e-01   2.15003670e-02  -5.10709967e-01   5.56078539e-02\n",
      "    2.58145605e-02  -4.06763771e-02]]\n"
     ]
    }
   ],
   "source": [
    "# Сколько компонент достаточно, чтобы описать 90% дисперсии?\n",
    "pca2 = PCA(n_components=0.9)\n",
    "pca2.fit(close_prices)\n",
    "\n",
    "print(pca2.explained_variance_ratio_)\n",
    "print(pca2.components_)\n",
    "# answer 1 = 4 "
   ]
  },
  {
   "cell_type": "code",
   "execution_count": 37,
   "metadata": {
    "collapsed": false
   },
   "outputs": [
    {
     "data": {
      "text/plain": [
       "numpy.ndarray"
      ]
     },
     "execution_count": 37,
     "metadata": {},
     "output_type": "execute_result"
    }
   ],
   "source": [
    "transform_data = pca.fit_transform(close_prices)\n",
    "type(transform_data)"
   ]
  },
  {
   "cell_type": "code",
   "execution_count": 23,
   "metadata": {
    "collapsed": false
   },
   "outputs": [
    {
     "data": {
      "text/plain": [
       "array([[ 1.        ,  0.90965222],\n",
       "       [ 0.90965222,  1.        ]])"
      ]
     },
     "execution_count": 23,
     "metadata": {},
     "output_type": "execute_result"
    }
   ],
   "source": [
    "# Вычислите коэффициент корреляции Пирсона между значением по первой компоненте и индексом Доу-Джонса.\n",
    "from numpy import corrcoef\n",
    "\n",
    "first_column = [item[0] for item in transform_data]\n",
    "corrcoef(first_column, djia_index['^DJI'])\n",
    "# answer 2: (При необходимости округляйте дробную часть до двух знаков.)  0.91"
   ]
  },
  {
   "cell_type": "code",
   "execution_count": 7,
   "metadata": {
    "collapsed": false
   },
   "outputs": [
    {
     "data": {
      "text/plain": [
       "26"
      ]
     },
     "execution_count": 7,
     "metadata": {},
     "output_type": "execute_result"
    }
   ],
   "source": [
    "# Какая компания имеет наибольший вес в первой компоненте?\n",
    "# Какая компания имеет наибольший вес в первой компоненте? Укажите ее название с большой буквы.\n",
    "first = list(pca.components_[0])\n",
    "first.index(max(first))"
   ]
  },
  {
   "cell_type": "code",
   "execution_count": 54,
   "metadata": {
    "collapsed": false
   },
   "outputs": [
    {
     "data": {
      "text/html": [
       "<div>\n",
       "<table border=\"1\" class=\"dataframe\">\n",
       "  <thead>\n",
       "    <tr style=\"text-align: right;\">\n",
       "      <th></th>\n",
       "      <th>V</th>\n",
       "    </tr>\n",
       "  </thead>\n",
       "  <tbody>\n",
       "    <tr>\n",
       "      <th>0</th>\n",
       "      <td>196.240005</td>\n",
       "    </tr>\n",
       "    <tr>\n",
       "      <th>1</th>\n",
       "      <td>193.339996</td>\n",
       "    </tr>\n",
       "    <tr>\n",
       "      <th>2</th>\n",
       "      <td>191.559998</td>\n",
       "    </tr>\n",
       "    <tr>\n",
       "      <th>3</th>\n",
       "      <td>193.559998</td>\n",
       "    </tr>\n",
       "    <tr>\n",
       "      <th>4</th>\n",
       "      <td>193.050003</td>\n",
       "    </tr>\n",
       "    <tr>\n",
       "      <th>5</th>\n",
       "      <td>191.100006</td>\n",
       "    </tr>\n",
       "    <tr>\n",
       "      <th>6</th>\n",
       "      <td>193.220001</td>\n",
       "    </tr>\n",
       "    <tr>\n",
       "      <th>7</th>\n",
       "      <td>191.820007</td>\n",
       "    </tr>\n",
       "    <tr>\n",
       "      <th>8</th>\n",
       "      <td>188.649994</td>\n",
       "    </tr>\n",
       "    <tr>\n",
       "      <th>9</th>\n",
       "      <td>190.479996</td>\n",
       "    </tr>\n",
       "    <tr>\n",
       "      <th>10</th>\n",
       "      <td>186.330002</td>\n",
       "    </tr>\n",
       "    <tr>\n",
       "      <th>11</th>\n",
       "      <td>182.529999</td>\n",
       "    </tr>\n",
       "    <tr>\n",
       "      <th>12</th>\n",
       "      <td>183.850006</td>\n",
       "    </tr>\n",
       "    <tr>\n",
       "      <th>13</th>\n",
       "      <td>189.029999</td>\n",
       "    </tr>\n",
       "    <tr>\n",
       "      <th>14</th>\n",
       "      <td>192.199997</td>\n",
       "    </tr>\n",
       "    <tr>\n",
       "      <th>15</th>\n",
       "      <td>193.440002</td>\n",
       "    </tr>\n",
       "    <tr>\n",
       "      <th>16</th>\n",
       "      <td>191.369995</td>\n",
       "    </tr>\n",
       "    <tr>\n",
       "      <th>17</th>\n",
       "      <td>195.630005</td>\n",
       "    </tr>\n",
       "    <tr>\n",
       "      <th>18</th>\n",
       "      <td>198.279999</td>\n",
       "    </tr>\n",
       "    <tr>\n",
       "      <th>19</th>\n",
       "      <td>200.449997</td>\n",
       "    </tr>\n",
       "    <tr>\n",
       "      <th>20</th>\n",
       "      <td>200.039993</td>\n",
       "    </tr>\n",
       "    <tr>\n",
       "      <th>21</th>\n",
       "      <td>199.979996</td>\n",
       "    </tr>\n",
       "    <tr>\n",
       "      <th>22</th>\n",
       "      <td>198.889999</td>\n",
       "    </tr>\n",
       "    <tr>\n",
       "      <th>23</th>\n",
       "      <td>202.910004</td>\n",
       "    </tr>\n",
       "    <tr>\n",
       "      <th>24</th>\n",
       "      <td>203.059998</td>\n",
       "    </tr>\n",
       "    <tr>\n",
       "      <th>25</th>\n",
       "      <td>203.080002</td>\n",
       "    </tr>\n",
       "    <tr>\n",
       "      <th>26</th>\n",
       "      <td>204.240005</td>\n",
       "    </tr>\n",
       "    <tr>\n",
       "      <th>27</th>\n",
       "      <td>203.820007</td>\n",
       "    </tr>\n",
       "    <tr>\n",
       "      <th>28</th>\n",
       "      <td>196.669998</td>\n",
       "    </tr>\n",
       "    <tr>\n",
       "      <th>29</th>\n",
       "      <td>199.160004</td>\n",
       "    </tr>\n",
       "    <tr>\n",
       "      <th>...</th>\n",
       "      <td>...</td>\n",
       "    </tr>\n",
       "    <tr>\n",
       "      <th>344</th>\n",
       "      <td>264.890015</td>\n",
       "    </tr>\n",
       "    <tr>\n",
       "      <th>345</th>\n",
       "      <td>271.799988</td>\n",
       "    </tr>\n",
       "    <tr>\n",
       "      <th>346</th>\n",
       "      <td>267.420013</td>\n",
       "    </tr>\n",
       "    <tr>\n",
       "      <th>347</th>\n",
       "      <td>265.459991</td>\n",
       "    </tr>\n",
       "    <tr>\n",
       "      <th>348</th>\n",
       "      <td>264.549988</td>\n",
       "    </tr>\n",
       "    <tr>\n",
       "      <th>349</th>\n",
       "      <td>265.989990</td>\n",
       "    </tr>\n",
       "    <tr>\n",
       "      <th>350</th>\n",
       "      <td>270.910004</td>\n",
       "    </tr>\n",
       "    <tr>\n",
       "      <th>351</th>\n",
       "      <td>269.630005</td>\n",
       "    </tr>\n",
       "    <tr>\n",
       "      <th>352</th>\n",
       "      <td>270.869995</td>\n",
       "    </tr>\n",
       "    <tr>\n",
       "      <th>353</th>\n",
       "      <td>269.119995</td>\n",
       "    </tr>\n",
       "    <tr>\n",
       "      <th>354</th>\n",
       "      <td>269.100006</td>\n",
       "    </tr>\n",
       "    <tr>\n",
       "      <th>355</th>\n",
       "      <td>273.000000</td>\n",
       "    </tr>\n",
       "    <tr>\n",
       "      <th>356</th>\n",
       "      <td>273.010010</td>\n",
       "    </tr>\n",
       "    <tr>\n",
       "      <th>357</th>\n",
       "      <td>272.470001</td>\n",
       "    </tr>\n",
       "    <tr>\n",
       "      <th>358</th>\n",
       "      <td>273.010010</td>\n",
       "    </tr>\n",
       "    <tr>\n",
       "      <th>359</th>\n",
       "      <td>273.750000</td>\n",
       "    </tr>\n",
       "    <tr>\n",
       "      <th>360</th>\n",
       "      <td>271.309998</td>\n",
       "    </tr>\n",
       "    <tr>\n",
       "      <th>361</th>\n",
       "      <td>278.290009</td>\n",
       "    </tr>\n",
       "    <tr>\n",
       "      <th>362</th>\n",
       "      <td>275.299988</td>\n",
       "    </tr>\n",
       "    <tr>\n",
       "      <th>363</th>\n",
       "      <td>273.750000</td>\n",
       "    </tr>\n",
       "    <tr>\n",
       "      <th>364</th>\n",
       "      <td>274.130005</td>\n",
       "    </tr>\n",
       "    <tr>\n",
       "      <th>365</th>\n",
       "      <td>269.339996</td>\n",
       "    </tr>\n",
       "    <tr>\n",
       "      <th>366</th>\n",
       "      <td>271.420013</td>\n",
       "    </tr>\n",
       "    <tr>\n",
       "      <th>367</th>\n",
       "      <td>265.200012</td>\n",
       "    </tr>\n",
       "    <tr>\n",
       "      <th>368</th>\n",
       "      <td>264.750000</td>\n",
       "    </tr>\n",
       "    <tr>\n",
       "      <th>369</th>\n",
       "      <td>269.579987</td>\n",
       "    </tr>\n",
       "    <tr>\n",
       "      <th>370</th>\n",
       "      <td>265.029999</td>\n",
       "    </tr>\n",
       "    <tr>\n",
       "      <th>371</th>\n",
       "      <td>269.019989</td>\n",
       "    </tr>\n",
       "    <tr>\n",
       "      <th>372</th>\n",
       "      <td>264.500000</td>\n",
       "    </tr>\n",
       "    <tr>\n",
       "      <th>373</th>\n",
       "      <td>267.670013</td>\n",
       "    </tr>\n",
       "  </tbody>\n",
       "</table>\n",
       "<p>374 rows × 1 columns</p>\n",
       "</div>"
      ],
      "text/plain": [
       "              V\n",
       "0    196.240005\n",
       "1    193.339996\n",
       "2    191.559998\n",
       "3    193.559998\n",
       "4    193.050003\n",
       "5    191.100006\n",
       "6    193.220001\n",
       "7    191.820007\n",
       "8    188.649994\n",
       "9    190.479996\n",
       "10   186.330002\n",
       "11   182.529999\n",
       "12   183.850006\n",
       "13   189.029999\n",
       "14   192.199997\n",
       "15   193.440002\n",
       "16   191.369995\n",
       "17   195.630005\n",
       "18   198.279999\n",
       "19   200.449997\n",
       "20   200.039993\n",
       "21   199.979996\n",
       "22   198.889999\n",
       "23   202.910004\n",
       "24   203.059998\n",
       "25   203.080002\n",
       "26   204.240005\n",
       "27   203.820007\n",
       "28   196.669998\n",
       "29   199.160004\n",
       "..          ...\n",
       "344  264.890015\n",
       "345  271.799988\n",
       "346  267.420013\n",
       "347  265.459991\n",
       "348  264.549988\n",
       "349  265.989990\n",
       "350  270.910004\n",
       "351  269.630005\n",
       "352  270.869995\n",
       "353  269.119995\n",
       "354  269.100006\n",
       "355  273.000000\n",
       "356  273.010010\n",
       "357  272.470001\n",
       "358  273.010010\n",
       "359  273.750000\n",
       "360  271.309998\n",
       "361  278.290009\n",
       "362  275.299988\n",
       "363  273.750000\n",
       "364  274.130005\n",
       "365  269.339996\n",
       "366  271.420013\n",
       "367  265.200012\n",
       "368  264.750000\n",
       "369  269.579987\n",
       "370  265.029999\n",
       "371  269.019989\n",
       "372  264.500000\n",
       "373  267.670013\n",
       "\n",
       "[374 rows x 1 columns]"
      ]
     },
     "execution_count": 54,
     "metadata": {},
     "output_type": "execute_result"
    }
   ],
   "source": [
    "close_prices = pandas.read_csv(filepath_or_buffer='/Volumes/fast64/My/MachineLearning/week04_02/Assignment/close_prices.csv')\n",
    "close_prices[[27]] # because first column is \"data\"\n",
    "# answer 3:  V - Visa"
   ]
  },
  {
   "cell_type": "code",
   "execution_count": null,
   "metadata": {
    "collapsed": true
   },
   "outputs": [],
   "source": []
  }
 ],
 "metadata": {
  "kernelspec": {
   "display_name": "Python 2",
   "language": "python",
   "name": "python2"
  },
  "language_info": {
   "codemirror_mode": {
    "name": "ipython",
    "version": 2
   },
   "file_extension": ".py",
   "mimetype": "text/x-python",
   "name": "python",
   "nbconvert_exporter": "python",
   "pygments_lexer": "ipython2",
   "version": "2.7.11"
  }
 },
 "nbformat": 4,
 "nbformat_minor": 0
}
